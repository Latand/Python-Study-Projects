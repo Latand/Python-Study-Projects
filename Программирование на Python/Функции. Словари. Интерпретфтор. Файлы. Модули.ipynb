{
 "cells": [
  {
   "cell_type": "code",
   "execution_count": 27,
   "metadata": {
    "collapsed": true,
    "pycharm": {
     "is_executing": false
    }
   },
   "outputs": [
    {
     "data": {
      "text/plain": "'\\n\\n\\n# не добавляйте кода вне функции\\ndef update_dictionary(d, key, value):\\n    key <<= key not in d\\n    d.setdefault(key,[]).append(value)\\n\\n# не добавляйте кода вне функции\\n\\n\\n'"
     },
     "metadata": {},
     "output_type": "execute_result",
     "execution_count": 27
    }
   ],
   "source": [
    "def update_dictionary(d, key, value):\n",
    "    if key in d:\n",
    "        d[key].append(value)\n",
    "    elif key*2 in d:\n",
    "        d[key*2].append(value)\n",
    "    else:\n",
    "        d[key*2] = [value]\n",
    "'''\n",
    "# True -> 1  \n",
    "# False -> 0  \n",
    "# dict_sample.get(\"key\", value) - проверяет, есть ли такой ключь.  \n",
    "# Если ключа нет, то создаёт такой ключь и возвращает value. \n",
    "# Если ключ есть, то возвращает значение ключа    \n",
    "def update_dictionary(d, key, value):\n",
    "    key += key * (key not in d) # если ключа нет, то умножаем его на 2 путём прибавления ключа * 1 \n",
    "    d[key] = d.get(key, []) + [value]\n",
    "'''\n",
    "'''\n",
    "\n",
    "\n",
    "# не добавляйте кода вне функции\n",
    "def update_dictionary(d, key, value):\n",
    "    key <<= key not in d\n",
    "    d.setdefault(key,[]).append(value)\n",
    "\n",
    "# не добавляйте кода вне функции\n",
    "\n",
    "\n",
    "'''"
   ]
  },
  {
   "cell_type": "code",
   "execution_count": 75,
   "outputs": [
    {
     "name": "stdout",
     "text": [
      "sdsef 1\n",
      "sfes 1\n",
      "efse 1\n",
      "fse 2\n",
      "f 1\n"
     ],
     "output_type": "stream"
    },
    {
     "data": {
      "text/plain": "'\\nx = input().lower().split()\\na = {i:x.count(i)for i in x}\\nfor i,j in a.items():\\n  print(i,j)\\n'"
     },
     "metadata": {},
     "output_type": "execute_result",
     "execution_count": 75
    }
   ],
   "source": [
    "str = input().lower().split()\n",
    "dict = {}\n",
    "for x in range(len(str)):\n",
    "    if str[x] not in dict:\n",
    "        dict[str[x]] = 1\n",
    "    else:\n",
    "        dict[str[x]] += 1\n",
    "for key, value in dict.items():\n",
    "    print(key, value, end='\\n')\n",
    "'''\n",
    "s = input().lower().split()\n",
    "for i in set(s):\n",
    "    print(i, s.count(i))\n",
    "'''\n",
    "'''\n",
    "x = input().lower().split()\n",
    "a = {i:x.count(i)for i in x}\n",
    "for i,j in a.items():\n",
    "  print(i,j)\n",
    "''' "
   ],
   "metadata": {
    "collapsed": false,
    "pycharm": {
     "name": "#%%\n",
     "is_executing": false
    }
   }
  },
  {
   "cell_type": "code",
   "execution_count": 82,
   "outputs": [
    {
     "name": "stdout",
     "text": [
      "3\n",
      "3\n",
      "3\n",
      "9\n",
      "15\n"
     ],
     "output_type": "stream"
    }
   ],
   "source": [
    "'''\n",
    "5\n",
    "5\n",
    "12\n",
    "9\n",
    "20\n",
    "12\n",
    "'''\n",
    "def f(x):\n",
    "    return x + x + x\n",
    "n = int(input())\n",
    "dict = {}\n",
    "for i in range(n):\n",
    "    x = int(input())\n",
    "    if x not in dict:\n",
    "        dict[x] = f(x)\n",
    "    print(dict[x])\n",
    "'''\n",
    "a=[int(input()) for i in range(int(input()))]\n",
    "b={x:f(x) for x in set(a)}\n",
    "for i in a:\n",
    "    print(b[i])\n",
    "Повторений ключей, а следовательно и вычисление функции f(x) быть не может,\n",
    "поскольку от повторений мы избавились преобразуя список в множество: set(a).\n",
    "a=[int(input()) for i in range(int(input()))]\n",
    "b={x:f(x) for x in set(a)}\n",
    "[print(b[i]) for i in a]\n",
    "'''\n",
    "'''\n",
    "cache = {}\n",
    "\n",
    "for _ in range(int(input())):\n",
    "    x = int(input())\n",
    "    if x not in cache:\n",
    "        cache[x] = f(x)\n",
    "        \n",
    "    print(cache[x])\n",
    "'''"
   ],
   "metadata": {
    "collapsed": false,
    "pycharm": {
     "name": "#%%\n",
     "is_executing": false
    }
   }
  },
  {
   "cell_type": "code",
   "execution_count": 1,
   "outputs": [
    {
     "name": "stdout",
     "text": [
      "FFFFFFFFFFccccccckkkkkxxxxxxxxxxxrrrrrrrrrrrrrAAAAbbbbbbbbbbbbbbbbbbbVVVVVVVVVVVVVVVVVVVFFFFFFFFCCCCCCWWWWWWWWWWWWWWWWjjjjjjjjjjjXXXXXXXXXXXXXXXXXXXXRdddddddddmmmZZZZZZZZZFFFFFFFFFFFFFFFFFFFFjjjjjjjjjjjjjjjjjjjjlllllvvvvvvvvvvvvvyyyyyyyyyyyyyLLLLLLLLLLLmmmmmmmmmmmmmmRRRRRRRpppppSSuuuuyyyyyTTTTTeAAAAAAAAAAAAAAOOOvvvvvvvvvvvvv"
     ],
     "output_type": "stream"
    }
   ],
   "source": [
    "zip_code = 'F10c7k5x11r13A4b19V19F8C6W16j11X20R1d9m3Z9F20j20l5v13y13L11m14R7p5S2u4y5T5e1A14O3v13'\n",
    "# zip_code = 'd15A5F4'\n",
    "# если символ двойной!?\n",
    "count = '0'\n",
    "count_len = 1\n",
    "for x in range(len(zip_code)):\n",
    "    if not '0' <= zip_code[x] <= '9':  # находим букву  \n",
    "        while x+count_len < len(zip_code) and '0' <= zip_code[x+count_len] <= '9':\n",
    "            count += zip_code[x+count_len]\n",
    "            count_len += 1\n",
    "        print(zip_code[x]*int(count), end = '')\n",
    "        count = '0'\n",
    "        count_len = 1\n",
    "\n",
    "\n",
    "# with open('dataset_3363_2.txt', 'r') as f:\n",
    "#     s = f.readline().strip()\n",
    "# i = 0\n",
    "# while i < len(s):\n",
    "#     j = i + 1\n",
    "#     while j < len(s) and s[j].isdigit():\n",
    "#         j += 1\n",
    "#     print(s[i] * int(s[i+1:j]), end='')\n",
    "#     i = j"
   ],
   "metadata": {
    "collapsed": false,
    "pycharm": {
     "name": "#%%\n",
     "is_executing": false
    }
   }
  },
  {
   "cell_type": "code",
   "execution_count": 2,
   "outputs": [
    {
     "traceback": [
      "\u001b[1;31m---------------------------------------------------------------------------\u001b[0m",
      "\u001b[1;31mUnicodeDecodeError\u001b[0m                        Traceback (most recent call last)",
      "\u001b[1;32m<ipython-input-2-54f7de14e61b>\u001b[0m in \u001b[0;36m<module>\u001b[1;34m\u001b[0m\n\u001b[0;32m      1\u001b[0m \u001b[1;32mwith\u001b[0m \u001b[0mopen\u001b[0m\u001b[1;33m(\u001b[0m\u001b[0mstr\u001b[0m\u001b[1;33m(\u001b[0m\u001b[1;34m'input.txt'\u001b[0m\u001b[1;33m)\u001b[0m\u001b[1;33m,\u001b[0m \u001b[1;34m'r'\u001b[0m\u001b[1;33m)\u001b[0m \u001b[1;32mas\u001b[0m \u001b[0mfile\u001b[0m\u001b[1;33m:\u001b[0m\u001b[1;33m\u001b[0m\u001b[1;33m\u001b[0m\u001b[0m\n\u001b[1;32m----> 2\u001b[1;33m     \u001b[0mstr\u001b[0m \u001b[1;33m=\u001b[0m \u001b[0mfile\u001b[0m\u001b[1;33m.\u001b[0m\u001b[0mread\u001b[0m\u001b[1;33m(\u001b[0m\u001b[1;33m)\u001b[0m\u001b[1;33m.\u001b[0m\u001b[0msplit\u001b[0m\u001b[1;33m(\u001b[0m\u001b[1;34m';'\u001b[0m\u001b[1;33m)\u001b[0m\u001b[1;33m\u001b[0m\u001b[1;33m\u001b[0m\u001b[0m\n\u001b[0m\u001b[0;32m      3\u001b[0m \u001b[0mprint\u001b[0m\u001b[1;33m(\u001b[0m\u001b[0mstr\u001b[0m\u001b[1;33m)\u001b[0m\u001b[1;33m\u001b[0m\u001b[1;33m\u001b[0m\u001b[0m\n",
      "\u001b[1;32mC:\\ProgramData\\Anaconda3\\lib\\encodings\\cp1251.py\u001b[0m in \u001b[0;36mdecode\u001b[1;34m(self, input, final)\u001b[0m\n\u001b[0;32m     21\u001b[0m \u001b[1;32mclass\u001b[0m \u001b[0mIncrementalDecoder\u001b[0m\u001b[1;33m(\u001b[0m\u001b[0mcodecs\u001b[0m\u001b[1;33m.\u001b[0m\u001b[0mIncrementalDecoder\u001b[0m\u001b[1;33m)\u001b[0m\u001b[1;33m:\u001b[0m\u001b[1;33m\u001b[0m\u001b[1;33m\u001b[0m\u001b[0m\n\u001b[0;32m     22\u001b[0m     \u001b[1;32mdef\u001b[0m \u001b[0mdecode\u001b[0m\u001b[1;33m(\u001b[0m\u001b[0mself\u001b[0m\u001b[1;33m,\u001b[0m \u001b[0minput\u001b[0m\u001b[1;33m,\u001b[0m \u001b[0mfinal\u001b[0m\u001b[1;33m=\u001b[0m\u001b[1;32mFalse\u001b[0m\u001b[1;33m)\u001b[0m\u001b[1;33m:\u001b[0m\u001b[1;33m\u001b[0m\u001b[1;33m\u001b[0m\u001b[0m\n\u001b[1;32m---> 23\u001b[1;33m         \u001b[1;32mreturn\u001b[0m \u001b[0mcodecs\u001b[0m\u001b[1;33m.\u001b[0m\u001b[0mcharmap_decode\u001b[0m\u001b[1;33m(\u001b[0m\u001b[0minput\u001b[0m\u001b[1;33m,\u001b[0m\u001b[0mself\u001b[0m\u001b[1;33m.\u001b[0m\u001b[0merrors\u001b[0m\u001b[1;33m,\u001b[0m\u001b[0mdecoding_table\u001b[0m\u001b[1;33m)\u001b[0m\u001b[1;33m[\u001b[0m\u001b[1;36m0\u001b[0m\u001b[1;33m]\u001b[0m\u001b[1;33m\u001b[0m\u001b[1;33m\u001b[0m\u001b[0m\n\u001b[0m\u001b[0;32m     24\u001b[0m \u001b[1;33m\u001b[0m\u001b[0m\n\u001b[0;32m     25\u001b[0m \u001b[1;32mclass\u001b[0m \u001b[0mStreamWriter\u001b[0m\u001b[1;33m(\u001b[0m\u001b[0mCodec\u001b[0m\u001b[1;33m,\u001b[0m\u001b[0mcodecs\u001b[0m\u001b[1;33m.\u001b[0m\u001b[0mStreamWriter\u001b[0m\u001b[1;33m)\u001b[0m\u001b[1;33m:\u001b[0m\u001b[1;33m\u001b[0m\u001b[1;33m\u001b[0m\u001b[0m\n",
      "\u001b[1;31mUnicodeDecodeError\u001b[0m: 'charmap' codec can't decode byte 0x98 in position 50: character maps to <undefined>"
     ],
     "ename": "UnicodeDecodeError",
     "evalue": "'charmap' codec can't decode byte 0x98 in position 50: character maps to <undefined>",
     "output_type": "error"
    }
   ],
   "source": [
    "with open(str('input.txt'), 'r') as file:\n",
    "    str = file.read().split(';')\n",
    "print(str)"
   ],
   "metadata": {
    "collapsed": false,
    "pycharm": {
     "name": "#%%\n",
     "is_executing": false
    }
   }
  }
 ],
 "metadata": {
  "kernelspec": {
   "name": "pycharm-a94f3ea",
   "language": "python",
   "display_name": "PyCharm (untitled2)"
  },
  "language_info": {
   "codemirror_mode": {
    "name": "ipython",
    "version": 2
   },
   "file_extension": ".py",
   "mimetype": "text/x-python",
   "name": "python",
   "nbconvert_exporter": "python",
   "pygments_lexer": "ipython2",
   "version": "2.7.6"
  },
  "pycharm": {
   "stem_cell": {
    "cell_type": "raw",
    "source": [],
    "metadata": {
     "collapsed": false
    }
   }
  }
 },
 "nbformat": 4,
 "nbformat_minor": 0
}