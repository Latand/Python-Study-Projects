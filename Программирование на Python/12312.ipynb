{
 "cells": [
  {
   "cell_type": "code",
   "execution_count": 56,
   "outputs": [
    {
     "name": "stdout",
     "text": [
      "\n"
     ],
     "output_type": "stream"
    },
    {
     "data": {
      "text/plain": "\"\\ndna = input()                    # считываем строку\\nprint(dna[0],end='')             # выводим первый символ\\ncnt = 1                          # счетчик символов на единице\\nfor i in range(0,len(dna)-1):    # итератор проходит по всем индексам символов кроме предпоследнего\\n    if dna[i] == dna[i+1]:       # сравниваем символ по текущему индексу со следующим\\n        cnt+=1                   # если символы одинаковые, то увеличиваем счетчик\\n    else :\\n        print(cnt,end='')        # если разные, то выводим значение счетчика\\n        print(dna[i+1],end='')   # выводим следующий символ\\n        cnt = 1                  # счетчик текущего символа на единице\\nprint(cnt)                       # в конце распечатываем значение счетчика последнего символа\\n\""
     },
     "metadata": {},
     "output_type": "execute_result",
     "execution_count": 56
    }
   ],
   "source": [
    "dna_code: str = str(input())\n",
    "zip_code = ''\n",
    "count = 1\n",
    "for x in range(len(dna_code)):\n",
    "    if len(dna_code) > (x + 1) and dna_code[x] == dna_code[x + 1]:\n",
    "        count += 1\n",
    "    else:\n",
    "        zip_code += dna_code[x] + str(count)\n",
    "        count = 1\n",
    "print(zip_code)\n",
    "'''\n",
    "genome = input() + ' '\n",
    "s = 0\n",
    "n = genome[0]\n",
    "for i in genome:\n",
    "    if n != i:\n",
    "        print(n + str(s), end = '')\n",
    "        s = 0\n",
    "        n = i\n",
    "    s += 1\n",
    "'''\n",
    "'''\n",
    "dna = input()                    # считываем строку\n",
    "print(dna[0],end='')             # выводим первый символ\n",
    "cnt = 1                          # счетчик символов на единице\n",
    "for i in range(0,len(dna)-1):    # итератор проходит по всем индексам символов кроме предпоследнего\n",
    "    if dna[i] == dna[i+1]:       # сравниваем символ по текущему индексу со следующим\n",
    "        cnt+=1                   # если символы одинаковые, то увеличиваем счетчик\n",
    "    else :\n",
    "        print(cnt,end='')        # если разные, то выводим значение счетчика\n",
    "        print(dna[i+1],end='')   # выводим следующий символ\n",
    "        cnt = 1                  # счетчик текущего символа на единице\n",
    "print(cnt)                       # в конце распечатываем значение счетчика последнего символа\n",
    "'''"
   ],
   "metadata": {
    "collapsed": false,
    "pycharm": {
     "name": "#%%\n",
     "is_executing": false
    }
   }
  },
  {
   "cell_type": "code",
   "execution_count": 1,
   "outputs": [
    {
     "name": "stdout",
     "text": [
      "['Ivan', 'Masha', 'Sasha', 'Olga', 'O', 'l', 'g', 'a']\n"
     ],
     "output_type": "stream"
    }
   ],
   "source": [
    "students = ['Ivan', 'Masha', 'Sasha']\n",
    "students += ['Olga']\n",
    "students += 'Olga'\n",
    "print(students)"
   ],
   "metadata": {
    "collapsed": false,
    "pycharm": {
     "name": "#%%\n",
     "is_executing": false
    }
   }
  },
  {
   "cell_type": "code",
   "execution_count": 58,
   "outputs": [
    {
     "name": "stdout",
     "text": [
      "0\n"
     ],
     "output_type": "stream"
    }
   ],
   "source": [
    "# print(sum(int(i) for i in input().split()))\n",
    "a = [int(i) for i in input().split()]\n",
    "s = 0\n",
    "for x in a:\n",
    "    s += x\n",
    "print(s)"
   ],
   "metadata": {
    "collapsed": false,
    "pycharm": {
     "name": "#%%\n",
     "is_executing": false
    }
   }
  },
  {
   "cell_type": "code",
   "execution_count": 59,
   "outputs": [
    {
     "name": "stdout",
     "text": [
      "\n"
     ],
     "output_type": "stream"
    },
    {
     "data": {
      "text/plain": "\"\\nsrc = [int(i) for i in input().split()]\\nif len(src) == 1:\\n    print(src[0])\\nelse:\\n    [print( src[i-1] + src[(i+1) % len(src)] ,end=' ') for i in range(len(src))]\\n    # выражение src[(i+1) % len(src)] на выходе для src = [1, 3, 5, 6, 10] даст [3, 5, 6, 10, 1]\\n    # потому, что (i+1) % len(src) даёт 1 2 3 4 0\\n    # т.е. таким образом 0й элемент оказывается в конце списка (как будто повернули циферблат)\\n    # таким образом если при обращении к i+1 случится выход за границу диапазона для последнего элемента\\n    # то при обращении к (i+1) % len(src) элементу выхода не произойдет\\n    # поэтому складывая -1й элемент с [(i+1) % len(src)]-тым элементом\\n    # мы выполним условие найти сумму предыдущего и следующего элементов\\n    # [print( src[(i+1) % len(src)]) for i in range(len(src))]\\n\""
     },
     "metadata": {},
     "output_type": "execute_result",
     "execution_count": 59
    }
   ],
   "source": [
    "a = [int(i) for i in input().split()]\n",
    "b = []\n",
    "if len(a) > 2 :\n",
    "    for x in range(len(a)) :\n",
    "        if len(a) > (x + 1):\n",
    "            b += [(a[x-1] + a[x+1])]\n",
    "    b.append(a[-2] + a[0])\n",
    "elif len(a) > 1 :\n",
    "    b = [(a[1] + a[1]), (a[0] + a[0])]\n",
    "else : \n",
    "    b = a\n",
    "print(*b)\n",
    "'''\n",
    "a=[int(i) for i in input().split()]\n",
    "if len(a)>1:\n",
    "    for i in range(len(a)):\n",
    "        print(a[i-1]+a[i+1-len(a)])\n",
    "else:\n",
    "    print(a[0])\n",
    "'''\n",
    "'''\n",
    "src = [int(i) for i in input().split()]\n",
    "if len(src) == 1:\n",
    "    print(src[0])\n",
    "else:\n",
    "    [print( src[i-1] + src[(i+1) % len(src)] ,end=' ') for i in range(len(src))]\n",
    "    # выражение src[(i+1) % len(src)] на выходе для src = [1, 3, 5, 6, 10] даст [3, 5, 6, 10, 1]\n",
    "    # потому, что (i+1) % len(src) даёт 1 2 3 4 0\n",
    "    # т.е. таким образом 0й элемент оказывается в конце списка (как будто повернули циферблат)\n",
    "    # таким образом если при обращении к i+1 случится выход за границу диапазона для последнего элемента\n",
    "    # то при обращении к (i+1) % len(src) элементу выхода не произойдет\n",
    "    # поэтому складывая -1й элемент с [(i+1) % len(src)]-тым элементом\n",
    "    # мы выполним условие найти сумму предыдущего и следующего элементов\n",
    "    # [print( src[(i+1) % len(src)]) for i in range(len(src))]\n",
    "'''"
   ],
   "metadata": {
    "collapsed": false,
    "pycharm": {
     "name": "#%%\n",
     "is_executing": false
    }
   }
  },
  {
   "cell_type": "code",
   "execution_count": 60,
   "outputs": [],
   "source": [
    "# ВЫВЕСТИ ТОЛЬКО ПОВТОРЯЮЩИЕСЯ ЭЛЕМЕНТЫ ОДИН РАЗ !!!!!!!!!!!!!\n",
    "\n",
    "a = [int(x) for x in input().split()]\n",
    "for i in range(len(a)):\n",
    "    if a.count(a[i]) > 1 and a[:i].count(a[i]) == 0:\n",
    "        print(a[i], end = ' ')\n",
    "        \n",
    "\n",
    "        "
   ],
   "metadata": {
    "collapsed": false,
    "pycharm": {
     "name": "#%%\n",
     "is_executing": false
    }
   }
  },
  {
   "cell_type": "code",
   "execution_count": 61,
   "outputs": [
    {
     "traceback": [
      "\u001b[1;31m---------------------------------------------------------------------------\u001b[0m",
      "\u001b[1;31mValueError\u001b[0m                                Traceback (most recent call last)",
      "\u001b[1;32m<ipython-input-61-a68cf9a63310>\u001b[0m in \u001b[0;36m<module>\u001b[1;34m\u001b[0m\n\u001b[0;32m      1\u001b[0m \u001b[1;31m# поле для игры сапёр\u001b[0m\u001b[1;33m\u001b[0m\u001b[1;33m\u001b[0m\u001b[1;33m\u001b[0m\u001b[0m\n\u001b[1;32m----> 2\u001b[1;33m \u001b[0mn\u001b[0m\u001b[1;33m,\u001b[0m \u001b[0mm\u001b[0m\u001b[1;33m,\u001b[0m \u001b[0mk\u001b[0m \u001b[1;33m=\u001b[0m \u001b[1;33m(\u001b[0m\u001b[0mint\u001b[0m\u001b[1;33m(\u001b[0m\u001b[0mi\u001b[0m\u001b[1;33m)\u001b[0m \u001b[1;32mfor\u001b[0m \u001b[0mi\u001b[0m \u001b[1;32min\u001b[0m \u001b[0minput\u001b[0m\u001b[1;33m(\u001b[0m\u001b[1;33m)\u001b[0m\u001b[1;33m.\u001b[0m\u001b[0msplit\u001b[0m\u001b[1;33m(\u001b[0m\u001b[1;33m)\u001b[0m\u001b[1;33m)\u001b[0m  \u001b[1;31m# чтение размеров поля и числа мин\u001b[0m\u001b[1;33m\u001b[0m\u001b[1;33m\u001b[0m\u001b[0m\n\u001b[0m\u001b[0;32m      3\u001b[0m \u001b[0ma\u001b[0m \u001b[1;33m=\u001b[0m \u001b[1;33m[\u001b[0m\u001b[1;33m[\u001b[0m\u001b[1;36m0\u001b[0m \u001b[1;32mfor\u001b[0m \u001b[0mj\u001b[0m \u001b[1;32min\u001b[0m \u001b[0mrange\u001b[0m\u001b[1;33m(\u001b[0m\u001b[0mm\u001b[0m\u001b[1;33m)\u001b[0m\u001b[1;33m]\u001b[0m \u001b[1;32mfor\u001b[0m \u001b[0mi\u001b[0m \u001b[1;32min\u001b[0m \u001b[0mrange\u001b[0m\u001b[1;33m(\u001b[0m\u001b[0mn\u001b[0m\u001b[1;33m)\u001b[0m\u001b[1;33m]\u001b[0m  \u001b[1;31m# заполнение поля нулями\u001b[0m\u001b[1;33m\u001b[0m\u001b[1;33m\u001b[0m\u001b[0m\n\u001b[0;32m      4\u001b[0m \u001b[1;32mfor\u001b[0m \u001b[0mi\u001b[0m \u001b[1;32min\u001b[0m \u001b[0mrange\u001b[0m\u001b[1;33m(\u001b[0m\u001b[0mk\u001b[0m\u001b[1;33m)\u001b[0m\u001b[1;33m:\u001b[0m\u001b[1;33m\u001b[0m\u001b[1;33m\u001b[0m\u001b[0m\n\u001b[0;32m      5\u001b[0m     \u001b[0mrow\u001b[0m\u001b[1;33m,\u001b[0m \u001b[0mcol\u001b[0m \u001b[1;33m=\u001b[0m \u001b[1;33m(\u001b[0m\u001b[0mint\u001b[0m\u001b[1;33m(\u001b[0m\u001b[0mi\u001b[0m\u001b[1;33m)\u001b[0m \u001b[1;33m-\u001b[0m \u001b[1;36m1\u001b[0m \u001b[1;32mfor\u001b[0m \u001b[0mi\u001b[0m \u001b[1;32min\u001b[0m \u001b[0minput\u001b[0m\u001b[1;33m(\u001b[0m\u001b[1;33m)\u001b[0m\u001b[1;33m.\u001b[0m\u001b[0msplit\u001b[0m\u001b[1;33m(\u001b[0m\u001b[1;33m)\u001b[0m\u001b[1;33m)\u001b[0m\u001b[1;33m\u001b[0m\u001b[1;33m\u001b[0m\u001b[0m\n",
      "\u001b[1;32m<ipython-input-61-a68cf9a63310>\u001b[0m in \u001b[0;36m<genexpr>\u001b[1;34m(.0)\u001b[0m\n\u001b[0;32m      1\u001b[0m \u001b[1;31m# поле для игры сапёр\u001b[0m\u001b[1;33m\u001b[0m\u001b[1;33m\u001b[0m\u001b[1;33m\u001b[0m\u001b[0m\n\u001b[1;32m----> 2\u001b[1;33m \u001b[0mn\u001b[0m\u001b[1;33m,\u001b[0m \u001b[0mm\u001b[0m\u001b[1;33m,\u001b[0m \u001b[0mk\u001b[0m \u001b[1;33m=\u001b[0m \u001b[1;33m(\u001b[0m\u001b[0mint\u001b[0m\u001b[1;33m(\u001b[0m\u001b[0mi\u001b[0m\u001b[1;33m)\u001b[0m \u001b[1;32mfor\u001b[0m \u001b[0mi\u001b[0m \u001b[1;32min\u001b[0m \u001b[0minput\u001b[0m\u001b[1;33m(\u001b[0m\u001b[1;33m)\u001b[0m\u001b[1;33m.\u001b[0m\u001b[0msplit\u001b[0m\u001b[1;33m(\u001b[0m\u001b[1;33m)\u001b[0m\u001b[1;33m)\u001b[0m  \u001b[1;31m# чтение размеров поля и числа мин\u001b[0m\u001b[1;33m\u001b[0m\u001b[1;33m\u001b[0m\u001b[0m\n\u001b[0m\u001b[0;32m      3\u001b[0m \u001b[0ma\u001b[0m \u001b[1;33m=\u001b[0m \u001b[1;33m[\u001b[0m\u001b[1;33m[\u001b[0m\u001b[1;36m0\u001b[0m \u001b[1;32mfor\u001b[0m \u001b[0mj\u001b[0m \u001b[1;32min\u001b[0m \u001b[0mrange\u001b[0m\u001b[1;33m(\u001b[0m\u001b[0mm\u001b[0m\u001b[1;33m)\u001b[0m\u001b[1;33m]\u001b[0m \u001b[1;32mfor\u001b[0m \u001b[0mi\u001b[0m \u001b[1;32min\u001b[0m \u001b[0mrange\u001b[0m\u001b[1;33m(\u001b[0m\u001b[0mn\u001b[0m\u001b[1;33m)\u001b[0m\u001b[1;33m]\u001b[0m  \u001b[1;31m# заполнение поля нулями\u001b[0m\u001b[1;33m\u001b[0m\u001b[1;33m\u001b[0m\u001b[0m\n\u001b[0;32m      4\u001b[0m \u001b[1;32mfor\u001b[0m \u001b[0mi\u001b[0m \u001b[1;32min\u001b[0m \u001b[0mrange\u001b[0m\u001b[1;33m(\u001b[0m\u001b[0mk\u001b[0m\u001b[1;33m)\u001b[0m\u001b[1;33m:\u001b[0m\u001b[1;33m\u001b[0m\u001b[1;33m\u001b[0m\u001b[0m\n\u001b[0;32m      5\u001b[0m     \u001b[0mrow\u001b[0m\u001b[1;33m,\u001b[0m \u001b[0mcol\u001b[0m \u001b[1;33m=\u001b[0m \u001b[1;33m(\u001b[0m\u001b[0mint\u001b[0m\u001b[1;33m(\u001b[0m\u001b[0mi\u001b[0m\u001b[1;33m)\u001b[0m \u001b[1;33m-\u001b[0m \u001b[1;36m1\u001b[0m \u001b[1;32mfor\u001b[0m \u001b[0mi\u001b[0m \u001b[1;32min\u001b[0m \u001b[0minput\u001b[0m\u001b[1;33m(\u001b[0m\u001b[1;33m)\u001b[0m\u001b[1;33m.\u001b[0m\u001b[0msplit\u001b[0m\u001b[1;33m(\u001b[0m\u001b[1;33m)\u001b[0m\u001b[1;33m)\u001b[0m\u001b[1;33m\u001b[0m\u001b[1;33m\u001b[0m\u001b[0m\n",
      "\u001b[1;31mValueError\u001b[0m: invalid literal for int() with base 10: 'wd'"
     ],
     "ename": "ValueError",
     "evalue": "invalid literal for int() with base 10: 'wd'",
     "output_type": "error"
    }
   ],
   "source": [
    "# поле для игры сапёр\n",
    "n, m, k = (int(i) for i in input().split())  # чтение размеров поля и числа мин\n",
    "a = [[0 for j in range(m)] for i in range(n)]  # заполнение поля нулями\n",
    "for i in range(k):\n",
    "    row, col = (int(i) - 1 for i in input().split())\n",
    "    a[row][col] = -1  # расставляем мины\n",
    "for i in range(n):\n",
    "    for j in range(m):\n",
    "        if a[i][j] == 0:  # в этой клетке мины нет, поэтому считаем число мин вокруг\n",
    "            for di in range(-1, 2):\n",
    "                for dj in range(-1, 2):\n",
    "                    ai = i + di\n",
    "                    aj = j + dj\n",
    "                    # (ai, aj)\n",
    "                    if 0 <= ai < n and 0 <= aj < m and a[ai][aj] == -1:\n",
    "                        a[i][j] += 1\n",
    "# вывод результата\n",
    "for i in range(n):\n",
    "    for j in range(m):\n",
    "        if a[i][j] == -1:\n",
    "            print('*', end='')\n",
    "        elif a[i][j] == 0:\n",
    "            print('.', end='')\n",
    "        else:\n",
    "            print(a[i][j], end='')\n",
    "    print()"
   ],
   "metadata": {
    "collapsed": false,
    "pycharm": {
     "name": "#%%\n",
     "is_executing": false
    }
   }
  },
  {
   "cell_type": "code",
   "execution_count": null,
   "outputs": [],
   "source": [
    "_text = int(input())\n",
    "sum_input = _text\n",
    "sum_squares = 0\n",
    "while sum_input != 0:\n",
    "    sum_squares += int(((_text ** 2) ** 0.5) ** 2)\n",
    "    _input = int(input())\n",
    "    sum_input += _text\n",
    "print(sum_squares + int(((_text ** 2) ** 0.5) ** 2))\n",
    "'''\n",
    "s=[int(input())]\n",
    "while sum(s)!=0: s.append(int(input()))\n",
    "print(sum([i**2 for i in s]))\n",
    "'''     \n",
    "'''\n",
    "s, d = 0, 0\n",
    "while True:\n",
    "    a = int(input())\n",
    "    s += a\n",
    "    d += a*a\n",
    "    if s == 0:\n",
    "        break\n",
    "print(d)\n",
    "'''"
   ],
   "metadata": {
    "collapsed": false,
    "pycharm": {
     "name": "#%%\n",
     "is_executing": false
    }
   }
  },
  {
   "cell_type": "code",
   "execution_count": null,
   "outputs": [],
   "source": [
    "# не работает при вводе нуля  \n",
    "sum_input = 0\n",
    "sum_squares = 0\n",
    "while sum_input != 0 or sum_squares == 0:\n",
    "    _input = int(input())\n",
    "    sum_squares += _input * _input\n",
    "    sum_input += _input\n",
    "print(sum_squares)"
   ],
   "metadata": {
    "collapsed": false,
    "pycharm": {
     "name": "#%%\n",
     "is_executing": false
    }
   }
  },
  {
   "cell_type": "code",
   "execution_count": null,
   "outputs": [],
   "source": [
    "# print(*[int( 0.5 + ((2 * x) ** 0.5)) for x in range(1, (int(input()) + 1))])  \n",
    "\n",
    "y = []\n",
    "r = int(input())\n",
    "for i in range(r):\n",
    "    for x in range(i + 1):\n",
    "        if len(y) < r:\n",
    "            y.append(i + 1)\n",
    "print(*y)\n",
    "'''\n",
    "n = int(input())\n",
    "a = []\n",
    "i = 0\n",
    "while len(a) < n:\n",
    "    a += [i] * i\n",
    "    i += 1\n",
    "print(*a[:n])\n",
    "'''\n",
    "'''\n",
    "Загуглил последовательность, у нее оказалась готовая форма для любого элемента\n",
    "и соответственно печатаем его:\n",
    "a(n)=floor(1/2+sqrt(2n)) \n",
    "\n",
    "import math\n",
    "x = int(input())\n",
    "print(*[int( 1/2 + math.sqrt(2 * n) ) for n in range(1, x + 1)])\n",
    "'''"
   ],
   "metadata": {
    "collapsed": false,
    "pycharm": {
     "name": "#%%\n",
     "is_executing": false
    }
   }
  },
  {
   "cell_type": "code",
   "execution_count": null,
   "outputs": [],
   "source": [
    "a = 'asdf'\n",
    "\n",
    "print([input() for x in a])"
   ],
   "metadata": {
    "collapsed": false,
    "pycharm": {
     "name": "#%%\n",
     "is_executing": false
    }
   }
  },
  {
   "cell_type": "code",
   "execution_count": null,
   "outputs": [],
   "source": [
    "print(*[int( 0.5 + ((2 * x) ** 0.5)) for x in range(1, (int(input())) + 1)])"
   ],
   "metadata": {
    "collapsed": false,
    "pycharm": {
     "name": "#%%\n",
     "is_executing": false
    }
   }
  },
  {
   "cell_type": "code",
   "execution_count": null,
   "outputs": [],
   "source": [
    "t = input().split()\n",
    "s = input()\n",
    "       \n",
    "if s in t:\n",
    "    for i in range(len(t)):\n",
    "        if t[i] == s:\n",
    "            print(i, end = ' ')\n",
    "else:\n",
    "    print('Отсутствует')\n",
    "'''        \n",
    "l, n = [int(i) for i in input().split()], int(input())\n",
    "print(*[x for x in range(len(l)) if l[x]==n] if n in l else [\"Отсутствует\"])\n",
    "'''        "
   ],
   "metadata": {
    "collapsed": false,
    "pycharm": {
     "name": "#%%\n",
     "is_executing": false
    }
   }
  },
  {
   "cell_type": "code",
   "execution_count": null,
   "outputs": [],
   "source": [
    "'''\n",
    "\n",
    "i = 0\n",
    "j = 0\n",
    "x[i][j] = x[0][0] = [0 - 3 = -3][0 - 3 = -3] = x[-3][-3]\n",
    "x[i-1][j] = x[-1][0] = [0 - 1 = -1][0 - 3 = -3] = x[-1][-3] # меняем минус на плюс\n",
    "x[i+1][j]i = x[1][0] = [0 - 3 + 1 = -2][0 - 3 = -3] = x[-2][-3]\n",
    "x[i][j-1]i = x[0][-1] = [0 - 3 = -3][0 - 1 = -1] = x[-3][-1] # минус на минус плюс\n",
    "x[i][j+1]i = x[0][1] = [0 - 3 = -3][0 - 3 + 1 = -2] = x[-3][-2]\n",
    "\n",
    "ширина 3\n",
    "длина 3\n",
    "0 1 2 2 3\n",
    "1 1 2 2 3\n",
    "2 1 2 2 3\n",
    "\n",
    "'''\n",
    "'''\n",
    "\n",
    "end\n",
    "(н-р, у вас может оказаться i равным 0, а вам надо в коде от i отнять единицу),\n",
    "то не бойтесь, он автоматом перейдет на отрицательный индекс i = -1, а это как раз то, \n",
    "куда вас просили перескочить - крайний правый элемент.\n",
    "Если же боитесь выйти за верхнюю границу \n",
    "(у вас может i принять верхнее значение i = m-1 (где m -- ширина списка),\n",
    "а вам к вашему i надо прибавить единицу),\n",
    "то перед прибавлением единицы отнимите собственно ширину списка (не i+1, а i-m+1).\n",
    "i-m переведет ваш индекс из неотрицательного в отрицательный,\n",
    "при этом его фактически не изменив, но теперь прибавка единицы гарантированно не вынесет вас за границу списка.\n",
    "На пальцах:\n",
    "список - - - - - [a,   b,  c,   d]\n",
    "индексы - - - -[0,   1,  2,   3] -- этими мы обычно оперируем\n",
    "индексы - - - -[-4, -3, -2,  -1] -- а иногда удобнее этими\n",
    "Просто больно смотреть, как кто-то трудолюбиво раздувает матрицу на дополнительную рамку.\n",
    "\n",
    "У крайних символов соседний элемент находится с противоположной стороны матрицы.\n",
    "\n",
    "В случае одной строки/столбца элемент сам себе является соседом по соответствующему направлению.\n",
    " Где то ранее уже была у меня проверка, если массив из одного элемента\n",
    "for i in range(n):\n",
    "    for j in range(m):\n",
    "        if a[i][j] == 0:  # в этой клетке мины нет, поэтому считаем число мин вокруг\n",
    "            for di in range(-1, 2):\n",
    "                for dj in range(-1, 2):\n",
    "                    ai = i + di\n",
    "                    aj = j + dj\n",
    "                    # (ai, aj)\n",
    "                    if 0 <= ai < n and 0 <= aj < m and a[ai][aj] == -1:\n",
    "                        a[i][j] += 1\n",
    "# вывод результата\n",
    "for i in range(n):\n",
    "    for j in range(m):\n",
    "        if a[i][j] == -1:\n",
    "            print('*', end='')\n",
    "        elif a[i][j] == 0:\n",
    "            print('.', end='')\n",
    "        else:\n",
    "            print(a[i][j], end='')\n",
    "    print()    \n",
    "'''\n",
    "'''\n",
    "examList = []\n",
    "i = input()\n",
    "\n",
    "while i != \"\":\n",
    "    examList.append(list(map(int,i.split())))\n",
    "    i = input()\n",
    "\n",
    "print(examList)\n",
    "'''\n",
    "'''\n",
    "while True:\n",
    "    try:\n",
    "        line = input()\n",
    "    except EOFError:\n",
    "        break\n",
    "    contents.append(line)\n",
    "while True:\n",
    "    t = input().split()\n",
    "    if t:\n",
    "        x.append(t)\n",
    "    else:\n",
    "        x = x[:-1]\n",
    "        break\n",
    "\n",
    "'''\n",
    "'''\n",
    "9 5 3\n",
    "0 7 -1\n",
    "-5 2 9\n",
    "3 21 22\n",
    "10 6 19\n",
    "20 16 -1\n",
    "'''"
   ],
   "metadata": {
    "collapsed": false,
    "pycharm": {
     "name": "#%%\n",
     "is_executing": false
    }
   }
  },
  {
   "cell_type": "code",
   "execution_count": null,
   "outputs": [],
   "source": [
    "x = []\n",
    "while True:\n",
    "    x.append(input().split())\n",
    "    if 'End' in x[-1]:\n",
    "        x = x[:-1]\n",
    "        break\n",
    "if len(x) > 1:\n",
    "    for i in range(len(x)):\n",
    "        for j in range(len(x[i])):\n",
    "            print(int(x[i-1][j]) + int(x[i-len(x)+1][j]) + int(x[i][j-1]) + int(x[i][j-len(x[0])+1]), end = ' ')\n",
    "        print()\n",
    "elif x != []:\n",
    "    for j in range(len(x[0])):\n",
    "        print(int(x[0][j]) + int(x[0][j]) + int(x[0][j-1]) + int(x[0][j-len(x[0])+1]), end = ' ')\n",
    "    print()\n",
    "'''\n",
    "x = []\n",
    "while True:\n",
    "    try:\n",
    "        line = input().split()\n",
    "    except EOFError:\n",
    "        break\n",
    "    x.append(line)\n",
    "x = x[:-1]\n",
    "'''\n",
    "'''\n",
    "c = []\n",
    "while True:\n",
    "    a = [i for i in input().split()]\n",
    "    if a == ['end']:\n",
    "        break\n",
    "    c.append(a)\n",
    "n, m = len(c), len(c[0])\n",
    "for i in range(n):\n",
    "    for j in range(m):\n",
    "        x = int(c[i][j-1]) + int(c[i][j+1-m]) + int(c[i-1][j]) + int(c[i+1-n][j])\n",
    "        print(x, end=' ')\n",
    "    print()\n",
    "'''"
   ],
   "metadata": {
    "collapsed": false,
    "pycharm": {
     "name": "#%%\n",
     "is_executing": false
    }
   }
  },
  {
   "cell_type": "code",
   "execution_count": null,
   "outputs": [],
   "source": [
    "# 1) варианты решения - печать строк с переменными по формуле.  как вариант replace заменять значиние как при проверке соседний полей, начинать из центра\n",
    "# и идти на плюс 1\n",
    "'''\n",
    "if len(x) > 1:\n",
    "    for i in range(len(x)):\n",
    "        for j in range(len(x[i])):\n",
    "            print(int(x[i-1][j]) + int(x[i-len(x)+1][j]) + int(x[i][j-1]) + int(x[i][j-len(x[0])+1]), end = ' ')\n",
    "        print()\n",
    "elif x != []:\n",
    "    for j in range(len(x[0])):\n",
    "        print(int(x[0][j]) + int(x[0][j]) + int(x[0][j-1]) + int(x[0][j-len(x[0])+1]), end = ' ')\n",
    "    print()\n",
    "'''\n",
    "# 2) создание массива через два цикла с уменьшением (увеличением) строки 554433221 (можно использовать функцию из предыдущего задания)  \n",
    "# print(*[int( 0.5 + ((2 * x) ** 0.5)) for x in range(1, (int(input())) + 1)]) append and \n",
    "\n",
    "\n",
    "\n",
    "# 3) создать сроку n ** 2 и кусками переносить её в массив  \n",
    "'''s = []\n",
    "snake = [[0 for y in range(n)] for x in range(n)]\n",
    "for t in range(1, n * n + 1):\n",
    "    s.append(t)\n",
    "for x in range(n):\n",
    "    for y in range(n):\n",
    "        if x % n == 0:\n",
    "            snake[x][y] = s[y+x]\n",
    "        else:\n",
    "             snake[x][y] = s[y-x]\n",
    "    print(snake[x])\n",
    "'''"
   ],
   "metadata": {
    "collapsed": false,
    "pycharm": {
     "name": "#%%\n",
     "is_executing": false
    }
   }
  },
  {
   "cell_type": "code",
   "execution_count": null,
   "outputs": [],
   "source": [
    "# получаем размер стороны змейки  \n",
    "n = int(input())\n",
    "# создаём поле для змейки  \n",
    "snake = [['x' for y in range(n)] for x in range(n)]\n",
    "# находим координаты центра змейки  \n",
    "x = n // 2\n",
    "y = n // 2\n",
    "# определяем длину змейки  \n",
    "t = n * n\n",
    "f = 0\n",
    "if n > 1:\n",
    "    move_horizontal = 1\n",
    "    move_vertical = 1\n",
    "    for a in range(n):\n",
    "        while a:\n",
    "\n",
    "#        for b in range(a): # СКОРЕЕ ВСЕГО a range # дальше определяем в каую сторону по вертикали и горизонтали смещаться  \n",
    "            print(a, ' : ', b, ' - ', t) \n",
    "            snake[y + b * move_vertical][x + b * move_horizontal] = t\n",
    "            t -= 1\n",
    "            f %= 5\n",
    "            move_vertical *= -1\n",
    "        move_horizontal *= -1\n",
    "# выводим змейку  \n",
    "for p in range(n):\n",
    "    print(snake[p])\n",
    "# int(x[i-1][j]) + int(x[i-len(x)+1][j]) + int(x[i][j-1]) + int(x[i][j-len(x[0])+1]), end = ' ')\n",
    "     "
   ],
   "metadata": {
    "collapsed": false,
    "pycharm": {
     "name": "#%%\n",
     "is_executing": false
    }
   }
  },
  {
   "cell_type": "code",
   "execution_count": null,
   "outputs": [],
   "source": [
    "print(*[int(0.5 + ((2 * x) ** 0.5)) for x in range(1, (int(input())) + 1)])  \n",
    "\n"
   ],
   "metadata": {
    "collapsed": false,
    "pycharm": {
     "name": "#%%\n",
     "is_executing": false
    }
   }
  },
  {
   "cell_type": "code",
   "execution_count": null,
   "outputs": [],
   "source": [
    "# получаем размер поля спирали  \n",
    "n = int(input())\n",
    "# создаём поле для спирали  \n",
    "snake = [['x' for y in range(n)] for x in range(n)]\n",
    "# находим координаты центра спирали  \n",
    "x = n // 2\n",
    "y = n // 2\n",
    "# определяем длину спирали  \n",
    "t = n * n\n",
    "# записываем значение центральной ячейки и минусуем значение  \n",
    "snake[x][y] = t\n",
    "t -= 1\n",
    "# вводим переменные направления движени  \n",
    "move_horizontal = -1\n",
    "move_vertical = 1\n",
    "# запускаем движением спирали  \n",
    "for a in range(n):\n",
    "    for d in range(a): # двигаем спираль в право или влево  \n",
    "        print(a, ' y: ', (y - 1 * move_horizontal), ' d ', d, ' - ', t)\n",
    "        y = y - 1 * move_horizontal\n",
    "        snake[x][y] = t\n",
    "        t -= 1\n",
    "    for c in range(a): # двигаем спираль в вверх или вниз  \n",
    "        print(a, ' x: ', x - 1 * move_vertical, ' c ', c, ' - ', t) \n",
    "        x = x - 1 * move_vertical\n",
    "        snake[x][y] = t\n",
    "        t -= 1\n",
    "    move_vertical *= -1 # меняем направление движение спирали по вертикали  \n",
    "    move_horizontal *= -1 # меняем направление движения спирали по горизонтали  \n",
    "\n",
    "# выводим спираль  \n",
    "for p in range(n):\n",
    "    print(snake[p])"
   ],
   "metadata": {
    "collapsed": false,
    "pycharm": {
     "name": "#%%\n",
     "is_executing": false
    }
   }
  },
  {
   "cell_type": "code",
   "execution_count": null,
   "outputs": [],
   "source": [
    "\n",
    "# получаем размер поля спирали  \n",
    "n = int(input())\n",
    "# создаём поле для спирали  \n",
    "snake = [['x' for y in range(n)] for x in range(n)]\n",
    "# находим координаты центра спирали  \n",
    "x = 0\n",
    "y = n - 1\n",
    "snake[n // 2][n // 2] = n * n\n",
    "t = n\n",
    "# вводим переменные направления движени  \n",
    "move_horizontal = -1\n",
    "move_vertical = 1\n",
    "# запускаем движением спирали  \n",
    "for a in range(1, n):\n",
    "    for c in range(n - (a+1)): # двигаем спираль в вверх или вниз 4 \n",
    "#        print(a, ' x: ', x - 1 * move_vertical, ' c ', c, ' - ', t) \n",
    "        x = c * move_vertical\n",
    "        snake[x][y] = t\n",
    "        t += 1 # минусовать для обратной спирали  \n",
    "    x += move_vertical\n",
    "    for d in range(1, n-a): # двигаем спираль в право или влево  \n",
    "#        print(a, ' y: ', (y - 1 * move_horizontal), ' d ', d, ' - ', t)\n",
    "        y = d * move_horizontal\n",
    "        snake[x][y] = t\n",
    "        t += 1 # минусовать для обратной спирали  \n",
    "    y += move_horizontal\n",
    "    move_vertical *= -1 # меняем направление движение спирали по вертикали  \n",
    "    move_horizontal *= -1 # меняем направление движения спирали по горизонтали  \n",
    "\n",
    "# выводим спираль  \n",
    "for p in range(n):\n",
    "    print(snake[p])"
   ],
   "metadata": {
    "collapsed": false,
    "pycharm": {
     "name": "#%%\n",
     "is_executing": false
    }
   }
  },
  {
   "cell_type": "code",
   "execution_count": null,
   "outputs": [],
   "source": [
    "\n",
    "for x in range(1, 5):\n",
    "    print(x)"
   ],
   "metadata": {
    "collapsed": false,
    "pycharm": {
     "name": "#%%\n",
     "is_executing": false
    }
   }
  },
  {
   "cell_type": "code",
   "execution_count": null,
   "outputs": [],
   "source": [
    "    #n - размерность матрицы n x n\n",
    "    #mat - результирующая матрица\n",
    "    #st - текущее значение-счетчик для записи в матрицу\n",
    "    #m - коеффициент, используемый для заполнения верхней\n",
    "    #матрицы последующих витков, т.к. одномерные матрицы\n",
    "    #следующих витков имеют меньше значений\n",
    "    n = int(input())\n",
    "    mat = [[0]*n for i in range(n)]\n",
    "    st, m = 1, 0\n",
    "    # Заранее присваиваю значение центральному элементу\n",
    "    # матрицы\n",
    "    mat[n//2][n//2]=n*n\n",
    "    for v in range(n//2):\n",
    "        #Заполнение верхней горизонтальной матрицы\n",
    "        for i in range(n-m):\n",
    "            mat[v][i+v] = st\n",
    "            st+=1\n",
    "            #i+=1\n",
    "        #Заполнение правой вертикальной матрицы    \n",
    "        for i in range(v+1, n-v):\n",
    "            mat[i][-v-1] = st\n",
    "            st+=1\n",
    "            #i+=1\n",
    "        #Заполнение нижней горизонтальной матрицы\n",
    "        for i in range(v+1, n-v):\n",
    "            mat[-v-1][-i-1] =st\n",
    "            st+=1\n",
    "            #i+=1\n",
    "        #Заполнение левой вертикальной матрицы\n",
    "        for i in range(v+1, n-(v+1)):\n",
    "            mat[-i-1][v]=st\n",
    "            st+=1\n",
    "            #i+=1\n",
    "        #v+=1\n",
    "        m+=2\n",
    "    #Вывод результата на экран\n",
    "    for i in mat:\n",
    "        print(*i)"
   ],
   "metadata": {
    "collapsed": false,
    "pycharm": {
     "name": "#%%\n",
     "is_executing": false
    }
   }
  },
  {
   "cell_type": "code",
   "execution_count": null,
   "outputs": [],
   "source": [
    "n=int(input())\n",
    "t=[[0]*n for i in range (n)]\n",
    "i,j=0,0\n",
    "for k in range(1, n*n+1):\n",
    "  t[i][j]=k\n",
    "  if k==n*n: break\n",
    "  if i<=j+1 and i+j<n-1: j+=1\n",
    "  elif i<j and i+j>=n-1: i+=1\n",
    "  elif i>=j and i+j>n-1: j-=1\n",
    "  elif i>j+1 and i+j<=n-1: i-=1\n",
    "for i in range(n):\n",
    "  print(*t[i])"
   ],
   "metadata": {
    "collapsed": false,
    "pycharm": {
     "name": "#%%\n",
     "is_executing": false
    }
   }
  },
  {
   "cell_type": "code",
   "execution_count": null,
   "outputs": [],
   "source": [
    "n = int(input())\n",
    "\n",
    "# Создаем нулевую квадратную матрицу заданной размерности\n",
    "a = [[0 for i in range(n)] for j in range(n)]\n",
    "\n",
    "# Определяем внутренние счетчики для цикла\n",
    "i = 0 # строки\n",
    "j = 0 # столбцы\n",
    "x = 1 # текущее значение для заполнения ячейки\n",
    "k = 0 # порядковый номер контура\n",
    "\n",
    "while x <= n*n:\n",
    "    a[i][j] = x # заполняем ячейку текущим значением\n",
    "\n",
    "    if i != j: # Только если мы сейчас не на диагонали!\n",
    "        # Сумма зеркально расположенных элементов одинакова для текущего контура.\n",
    "        # Она равна нижнему правому значению в контуре, умноженному на 2.\n",
    "        # Так что на каждом шаге цикла мы заполняем зеркальный элемент матрицы,\n",
    "        # просто вычитая текущее x из этой суммы ;)\n",
    "        a[j][i] = (a[k][k] + (n-k*2)*2) * 2 - 4 - x\n",
    "    \n",
    "    if j != n-k-1: \n",
    "        # если еще не уперлись в правую границу контура, двигаемся вправо\n",
    "        j += 1 \n",
    "        \n",
    "    elif i != n-k-1: \n",
    "        # если еще не уперлись в нижнюю границу контура, двигаемся вниз\n",
    "        i += 1\n",
    "        \n",
    "    elif x != n*n: \n",
    "        # Если вправо и вниз уже нельзя, значит мы закончили обход текущего контура!\n",
    "        # Только не забываем проверить, что x не равен n*n, а то будет бо-бо.\n",
    "        k += 1 # переходим к следующему контуру\n",
    "        i = j = k # обход следующего контура начнем с координат [k,k]\n",
    "        x = a[k][k-1] # текущее значение равно наибольшему в старом контуре\n",
    "        \n",
    "    x += 1 # Ну, и не забываем прибавлять единичку в конце цикла, какое бы условие ни сработало.\n",
    "    \n",
    "# Выводим на печать\n",
    "for i in a: print(*i)\n"
   ],
   "metadata": {
    "collapsed": false,
    "pycharm": {
     "name": "#%%\n",
     "is_executing": false
    }
   }
  },
  {
   "cell_type": "code",
   "execution_count": null,
   "outputs": [],
   "source": [
    "n = int(input())\n",
    "x,y,dx,dy, m = 0,0,0,1, [[0]*n for i in range(n)]\n",
    "for i in range(n*n):\n",
    "  m[x][y]=str(i+1)\n",
    "  if x+dx>=n or x+dx<0 or y+dy>=n or y+dy<0 or m[x+dx][y+dy]:\n",
    "      dx,dy = dy,-dx\n",
    "  x,y = x+dx, y+dy\n",
    "print(\"\\n\".join([\" \".join(i) for i in m]))"
   ],
   "metadata": {
    "collapsed": false,
    "pycharm": {
     "name": "#%%\n",
     "is_executing": false
    }
   }
  },
  {
   "cell_type": "code",
   "execution_count": null,
   "outputs": [],
   "source": [
    "# put your python code here\n",
    "n = int(input())\n",
    "a = [[0 for i in range(n)] for j in range(n)]  #создаю матрицу n*n и заполняю нулями\n",
    "k = 1 # заполняю матрицу числом к увеличивая его на 1 после заполнения каждого элемента\n",
    "m = 0 # счётчик итераций спирали, увеличиваю на 1 на каждом витке спирали\n",
    "while k <= n*n: # внешний цикл с 4 вложенными циклами пока k не заполнит всю матрицу n*n\n",
    "    for i in range(m, n-m): # цикл заполняет верхнюю сторону спирали - на каждой итерации сужаем границы цикла на m с каждой стороны\n",
    "        a[m][i]= k\n",
    "        k += 1\n",
    "    for i in range(m+1, n-m): # цикл заполняет правую сторону спирали, границы зависят от m\n",
    "        a[i][n-m-1]= k\n",
    "        k += 1\n",
    "    for i in range(n-m-2, m-1, -1): # заполняею нижнюю сторону спирали - зависит от m\n",
    "        a[n-m-1][i] = k\n",
    "        k += 1\n",
    "    for i in range(n-2-m,m, -1): # цикл заполняет леаую сторону спирали - зависит от m\n",
    "        a[i][m] = k\n",
    "        k += 1\n",
    "    m += 1\n",
    "for i in range(n): # вывод на печать каждого элемента матрицы\n",
    "    for j in range(n):\n",
    "        print(a[i][j], end =' ')\n",
    "    print()"
   ],
   "metadata": {
    "collapsed": false,
    "pycharm": {
     "name": "#%%\n",
     "is_executing": false
    }
   }
  },
  {
   "cell_type": "code",
   "execution_count": null,
   "outputs": [],
   "source": [
    "n = int(input())\n",
    "m = [[0] * n for i in range(n)]\n",
    "i, j, di, dj = 0, 0, 0, 1\n",
    "\n",
    "for k in range(n * n):\n",
    "    m[i][j] = k + 1\n",
    "    if (not -1 < i + di < n) or (not -1 < j + dj < n) or m[i + di][j + dj] != 0:\n",
    "        di, dj = dj, -di\n",
    "    i, j = i + di, j + dj\n",
    "\n",
    "[print(*i) for i in m]"
   ],
   "metadata": {
    "collapsed": false,
    "pycharm": {
     "name": "#%%\n",
     "is_executing": false
    }
   }
  },
  {
   "cell_type": "code",
   "execution_count": null,
   "outputs": [],
   "source": [
    "x,i,j=1,0,0; n=int(input())\n",
    "a=[[0]*n for i in range (n)]\n",
    "a[n//2][n//2]=n**2\n",
    "for s in range (n//2):\n",
    "    for rotate in range (4):\n",
    "        for j in range (n-1-s*2):\n",
    "            a[i+s][j+s]=x\n",
    "            x=x+1\n",
    "        a=[[a[i][j] for i in range(n)] for j in range (n-1,-1,-1)]\n",
    "for i in a:\n",
    "    print(*i)\n",
    "    "
   ],
   "metadata": {
    "collapsed": false,
    "pycharm": {
     "name": "#%%\n",
     "is_executing": false
    }
   }
  },
  {
   "cell_type": "code",
   "execution_count": null,
   "outputs": [],
   "source": [
    "x, y, dx, dy, n = 0, 0, 0, 1, int(input())\n",
    "matrix = [[0] * n for _ in range(n)]\n",
    "for i in range(n * n):\n",
    "    matrix[x][y] = str(i + 1)\n",
    "    if x + dx >= n or x + dx < 0 or y + dy >= n or y + dy < 0 or matrix[x + dx][y + dy]:\n",
    "        dx, dy = dy, -dx\n",
    "    x, y = x + dx, y + dy\n",
    "\n",
    "for row in matrix:\n",
    "    for el in row:\n",
    "        print(el, end=' ')\n",
    "    print()"
   ],
   "metadata": {
    "collapsed": false,
    "pycharm": {
     "name": "#%%\n",
     "is_executing": false
    }
   }
  },
  {
   "cell_type": "code",
   "execution_count": null,
   "outputs": [],
   "source": [
    "n = int(input())**2\n",
    "mx = [[]]\n",
    "while n > 0:\n",
    "    row_count = len(mx)\n",
    "    for i in range(row_count):\n",
    "        mx[i].insert(0, n)\n",
    "        n -= 1\n",
    "    mx = [[*x] for x in zip(*mx[::-1])]\n",
    "for row in mx:\n",
    "    print(*row)"
   ],
   "metadata": {
    "collapsed": false,
    "pycharm": {
     "name": "#%%\n",
     "is_executing": false
    }
   }
  },
  {
   "cell_type": "code",
   "execution_count": null,
   "outputs": [],
   "source": [
    "def zm(n):\n",
    "    dx, dy = 1, 0\n",
    "    x, y = 0, 0\n",
    "    arr = [[None] * n for _ in range(n)]\n",
    "    for i in range(1, n**2+1):\n",
    "        arr[x][y] = i\n",
    "        nx, ny = x+dx, y+dy\n",
    "        if 0 <= nx < n and 0 <= ny < n and not arr[nx][ny]:\n",
    "            x, y = nx, ny\n",
    "        else:\n",
    "            dx, dy = -dy, dx\n",
    "            x, y = x+dx, y+dy\n",
    "    for x in list(zip(*arr)):\n",
    "        print(*x)\n",
    "\n",
    "zm(int(input()))"
   ],
   "metadata": {
    "collapsed": false,
    "pycharm": {
     "name": "#%%\n",
     "is_executing": false
    }
   }
  },
  {
   "cell_type": "code",
   "execution_count": null,
   "outputs": [],
   "source": [
    "# получаем размер поля спирали  \n",
    "n = int(input())\n",
    "# создаём матрицу для спирали  \n",
    "matrix = [[None] * n for _ in range(n)]\n",
    "# создаём переменные  \n",
    "x, y = 0, 0\n",
    "dx, dy = 0, 1\n",
    "nx, ny = 0, 0\n",
    "for a in range(1, n*n+1):\n",
    "    matrix[x][y] = a\n",
    "    nx, ny = x+dx, y+dy\n",
    "    if 0 <= nx < n and 0 <= ny < n and not matrix[nx][ny]:\n",
    "        x, y = nx, ny\n",
    "    else:\n",
    "        dx, dy = -dy, dx\n",
    "        x, y = x+dx, y+dy\n",
    "for p in range(n):\n",
    "    print(matrix[p])"
   ],
   "metadata": {
    "collapsed": false,
    "pycharm": {
     "name": "#%%\n",
     "is_executing": false
    }
   }
  },
  {
   "cell_type": "code",
   "execution_count": null,
   "outputs": [],
   "source": [
    "def my_range(start, stop, step=1):\n",
    "    x = start\n",
    "    if step > 0:\n",
    "        x = start\n",
    "        while x < stop:\n",
    "            print(x, end = ' ')\n",
    "            x += step\n",
    "    elif step < 0:\n",
    "        while x > stop:\n",
    "            print(x, end = ' ')\n",
    "            x =+ step\n",
    "\n",
    "my_range(1, 10, 1)            \n",
    "        "
   ],
   "metadata": {
    "collapsed": false,
    "pycharm": {
     "name": "#%%\n",
     "is_executing": false
    }
   }
  },
  {
   "cell_type": "code",
   "execution_count": null,
   "outputs": [],
   "source": [
    "# тестовый вариант скрипка выше через одно условие\n",
    "# def my_range(start, stop, step=1):\n",
    "#     while start < stop or start > -stop:\n",
    "#         print(start, end = ' ')\n",
    "#         start += step\n",
    "# my_range(2, 5, 1)            "
   ],
   "metadata": {
    "collapsed": false,
    "pycharm": {
     "name": "#%%\n",
     "is_executing": false
    }
   }
  },
  {
   "cell_type": "code",
   "execution_count": null,
   "outputs": [],
   "source": [
    "def my_function(x):\n",
    "    if x <= -2:\n",
    "        return 1 - (x+2)**2\n",
    "    elif -2 <= x <= 2:\n",
    "        return -(x/2)\n",
    "    elif 2 < x:\n",
    "        return (x-2)**2+1\n",
    "print(my_function(int(input())))\n",
    "'''\n",
    "def f(x):\n",
    "    return {\n",
    "        x <= -2:      1 - (x + 2) ** 2,\n",
    "        -2 < x <= 2:  -x / 2,\n",
    "        2 < x:        (x - 2) ** 2 + 1\n",
    "    }[True]"
   ],
   "metadata": {
    "collapsed": false,
    "pycharm": {
     "name": "#%%\n",
     "is_executing": false
    }
   }
  },
  {
   "cell_type": "code",
   "execution_count": null,
   "outputs": [],
   "source": [
    "def f(x):\n",
    "    return float(x<-2 and 1-(x+2)**2 or 2<x and (x-2)**2+1 or -2<=x<=2 and -x/2)"
   ],
   "metadata": {
    "collapsed": false,
    "pycharm": {
     "name": "#%%\n",
     "is_executing": false
    }
   }
  },
  {
   "cell_type": "code",
   "execution_count": null,
   "outputs": [],
   "source": [
    "f = lambda x: 1 - (x + 2) ** 2 if x <= -2 else -x / 2 if -2 < x <= 2 else (x - 2) ** 2 + 1"
   ],
   "metadata": {
    "collapsed": false,
    "pycharm": {
     "name": "#%%\n",
     "is_executing": false
    }
   }
  },
  {
   "cell_type": "code",
   "execution_count": null,
   "outputs": [],
   "source": [
    "def f(x):\n",
    "    return 1 - (x + 2) ** 2 if x <= -2 else -x / 2 if x <= 2 else (x - 2) ** 2 + 1\n",
    "'''\n",
    "\n"
   ],
   "metadata": {
    "collapsed": false,
    "pycharm": {
     "name": "#%%\n",
     "is_executing": false
    }
   }
  },
  {
   "cell_type": "code",
   "execution_count": null,
   "outputs": [],
   "source": [
    "'''\n",
    "lst = [1, 2, 3, 4, 5, 6]\n",
    "print(modify_list(lst))  # None\n",
    "print(lst)               # [1, 2, 3]\n",
    "modify_list(lst)\n",
    "print(lst)               # [1]\n",
    "\n",
    "lst = [10, 5, 8, 3]\n",
    "modify_list(lst)\n",
    "print(lst)               # [5, 4]\n",
    "'''\n",
    "lst = [1, 2, 3, 4, 5, 6]\n",
    "def modifity_list(l):\n",
    "    for x in range(len(l)):\n",
    "        if l[x*-1] % 2 == 0:\n",
    "            l.insert(0, int(l[x*-1]/2))\n",
    "        else:\n",
    "            l.remove(l[x*-1])\n",
    "modifity_list(lst)\n",
    "print(lst)"
   ],
   "metadata": {
    "collapsed": false,
    "pycharm": {
     "name": "#%%\n",
     "is_executing": false
    }
   }
  },
  {
   "cell_type": "code",
   "execution_count": 132,
   "outputs": [
    {
     "name": "stdout",
     "text": [
      "5\n",
      "3\n",
      "1\n",
      "-1\n",
      "-2\n",
      "-4\n"
     ],
     "output_type": "stream"
    },
    {
     "traceback": [
      "\u001b[1;31m---------------------------------------------------------------------------\u001b[0m",
      "\u001b[1;31mIndexError\u001b[0m                                Traceback (most recent call last)",
      "\u001b[1;32m<ipython-input-132-deb72c325f44>\u001b[0m in \u001b[0;36m<module>\u001b[1;34m\u001b[0m\n\u001b[0;32m      8\u001b[0m \u001b[1;33m\u001b[0m\u001b[0m\n\u001b[0;32m      9\u001b[0m \u001b[1;31m# изменить список на обратную последовательность\u001b[0m\u001b[1;33m\u001b[0m\u001b[1;33m\u001b[0m\u001b[1;33m\u001b[0m\u001b[0m\n\u001b[1;32m---> 10\u001b[1;33m \u001b[0mmodifity_list\u001b[0m\u001b[1;33m(\u001b[0m\u001b[0mlst\u001b[0m\u001b[1;33m)\u001b[0m\u001b[1;33m\u001b[0m\u001b[1;33m\u001b[0m\u001b[0m\n\u001b[0m\u001b[0;32m     11\u001b[0m \u001b[0mprint\u001b[0m\u001b[1;33m(\u001b[0m\u001b[0mlst\u001b[0m\u001b[1;33m)\u001b[0m\u001b[1;33m\u001b[0m\u001b[1;33m\u001b[0m\u001b[0m\n\u001b[0;32m     12\u001b[0m \u001b[1;33m\u001b[0m\u001b[0m\n",
      "\u001b[1;32m<ipython-input-132-deb72c325f44>\u001b[0m in \u001b[0;36mmodifity_list\u001b[1;34m(l)\u001b[0m\n\u001b[0;32m      4\u001b[0m     \u001b[1;32mfor\u001b[0m \u001b[0mx\u001b[0m \u001b[1;32min\u001b[0m \u001b[0mrange\u001b[0m\u001b[1;33m(\u001b[0m\u001b[0mlen\u001b[0m\u001b[1;33m(\u001b[0m\u001b[0ml\u001b[0m\u001b[1;33m)\u001b[0m\u001b[1;33m)\u001b[0m\u001b[1;33m:\u001b[0m\u001b[1;33m\u001b[0m\u001b[1;33m\u001b[0m\u001b[0m\n\u001b[0;32m      5\u001b[0m         \u001b[0mprint\u001b[0m\u001b[1;33m(\u001b[0m\u001b[0mlen\u001b[0m\u001b[1;33m(\u001b[0m\u001b[0ml\u001b[0m\u001b[1;33m)\u001b[0m\u001b[1;33m-\u001b[0m\u001b[0mx\u001b[0m\u001b[1;33m-\u001b[0m\u001b[1;36m1\u001b[0m\u001b[1;33m)\u001b[0m\u001b[1;33m\u001b[0m\u001b[1;33m\u001b[0m\u001b[0m\n\u001b[1;32m----> 6\u001b[1;33m         \u001b[1;32mif\u001b[0m \u001b[0ml\u001b[0m\u001b[1;33m[\u001b[0m\u001b[0mlen\u001b[0m\u001b[1;33m(\u001b[0m\u001b[0ml\u001b[0m\u001b[1;33m)\u001b[0m\u001b[1;33m-\u001b[0m\u001b[0mx\u001b[0m\u001b[1;33m-\u001b[0m\u001b[1;36m1\u001b[0m\u001b[1;33m]\u001b[0m \u001b[1;33m%\u001b[0m \u001b[1;36m2\u001b[0m \u001b[1;33m==\u001b[0m \u001b[1;36m0\u001b[0m\u001b[1;33m:\u001b[0m\u001b[1;33m\u001b[0m\u001b[1;33m\u001b[0m\u001b[0m\n\u001b[0m\u001b[0;32m      7\u001b[0m             \u001b[0ml\u001b[0m\u001b[1;33m.\u001b[0m\u001b[0mremove\u001b[0m\u001b[1;33m(\u001b[0m\u001b[0ml\u001b[0m\u001b[1;33m[\u001b[0m\u001b[1;33m-\u001b[0m\u001b[1;36m1\u001b[0m\u001b[1;33m]\u001b[0m\u001b[1;33m)\u001b[0m\u001b[1;33m\u001b[0m\u001b[1;33m\u001b[0m\u001b[0m\n\u001b[0;32m      8\u001b[0m \u001b[1;33m\u001b[0m\u001b[0m\n",
      "\u001b[1;31mIndexError\u001b[0m: list index out of range"
     ],
     "ename": "IndexError",
     "evalue": "list index out of range",
     "output_type": "error"
    }
   ],
   "source": [
    "'''\n",
    "def modify_list(l):\n",
    "    l[:] = [i//2 for i in l if not i % 2]\n",
    "    '''\n",
    "'''\n",
    "По факту собираем новый список прямо в хвосте предыдущего, добавляя в конец списка чётные числа, поделенные на 2, а все исходные элементы списка - удаляем.\n",
    "\n",
    "for x in l[:] - перебор элементов ведём по копии списка, полученной с помощью среза, т.к. исходный список мы меняем прямо во время прохода, а в этом случае простой поэлементный перебор \"ломается\".\n",
    "\n",
    "def modify_list(l):\n",
    "    for x in l[:]:\n",
    "        if x % 2 == 0:\n",
    "            l.append(x//2)\n",
    "        l.remove(x)\n",
    "\n",
    "'''\n",
    "'''\n",
    "\n",
    "\n",
    "def modify_list(l):\n",
    "    for i in reversed(range(len(l))):\n",
    "        if l[i] % 2 == 1:\n",
    "            del l[i]\n",
    "        else:\n",
    "            l[i] //= 2\n",
    "\n",
    "'''\n",
    "def modify_list(l):\n",
    "    # put your python code here\n",
    "    tmp = []\n",
    "    for x in range(len(l)):\n",
    "        if l[x] % 2 != 0:\n",
    "            tmp.append(l[x])\n",
    "    for x in range(len(tmp)):\n",
    "        l.remove(tmp[x])\n",
    "    for x in range(len(l)):\n",
    "        l[x] = int(l[x]/2)"
   ],
   "metadata": {
    "collapsed": false,
    "pycharm": {
     "name": "#%%\n",
     "is_executing": false
    }
   }
  },
  {
   "cell_type": "code",
   "execution_count": 1,
   "outputs": [
    {
     "name": "stdout",
     "text": [
      "\n"
     ],
     "output_type": "stream"
    }
   ],
   "source": [
    "\n",
    "print()"
   ],
   "metadata": {
    "collapsed": false,
    "pycharm": {
     "name": "#%%\n",
     "is_executing": false
    }
   }
  }
 ],
 "metadata": {
  "kernelspec": {
   "name": "pycharm-a94f3ea",
   "language": "python",
   "display_name": "PyCharm (untitled2)"
  },
  "language_info": {
   "codemirror_mode": {
    "name": "ipython",
    "version": 2
   },
   "file_extension": ".py",
   "mimetype": "text/x-python",
   "name": "python",
   "nbconvert_exporter": "python",
   "pygments_lexer": "ipython2",
   "version": "2.7.6"
  },
  "pycharm": {
   "stem_cell": {
    "cell_type": "raw",
    "source": [],
    "metadata": {
     "collapsed": false
    }
   }
  }
 },
 "nbformat": 4,
 "nbformat_minor": 0
}