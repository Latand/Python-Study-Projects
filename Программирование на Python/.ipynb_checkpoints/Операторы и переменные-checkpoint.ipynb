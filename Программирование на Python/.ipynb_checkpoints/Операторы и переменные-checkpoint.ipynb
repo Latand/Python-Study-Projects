{
 "cells": [
  {
   "cell_type": "code",
   "execution_count": 26,
   "metadata": {},
   "outputs": [
    {
     "name": "stdout",
     "output_type": "stream",
     "text": [
      "40\n"
     ]
    }
   ],
   "source": [
    "print (520 % 60)"
   ]
  },
  {
   "cell_type": "code",
   "execution_count": 6,
   "metadata": {},
   "outputs": [
    {
     "name": "stdout",
     "output_type": "stream",
     "text": [
      "18064773765607550801425251468864907833685590016\n"
     ]
    }
   ],
   "source": [
    "print (2014 ** 14)"
   ]
  },
  {
   "cell_type": "code",
   "execution_count": 12,
   "metadata": {},
   "outputs": [
    {
     "name": "stdout",
     "output_type": "stream",
     "text": [
      "2\n"
     ]
    }
   ],
   "source": [
    "print (7 // 3)"
   ]
  },
  {
   "cell_type": "code",
   "execution_count": 9,
   "metadata": {},
   "outputs": [
    {
     "name": "stdout",
     "output_type": "stream",
     "text": [
      "0.0012345\n"
     ]
    }
   ],
   "source": [
    "print (1.2345e-3)"
   ]
  },
  {
   "cell_type": "code",
   "execution_count": 19,
   "metadata": {},
   "outputs": [
    {
     "name": "stdout",
     "output_type": "stream",
     "text": [
      "8\n",
      "35\n",
      "515\n"
     ]
    }
   ],
   "source": [
    "X = int(input())\n",
    "Y = int(input())\n",
    "print(X*60 + Y)"
   ]
  },
  {
   "cell_type": "code",
   "execution_count": 28,
   "metadata": {},
   "outputs": [
    {
     "name": "stdout",
     "output_type": "stream",
     "text": [
      "300\n",
      "5\n",
      "0\n"
     ]
    }
   ],
   "source": [
    "X = int(input())\n",
    "print (X // 60)\n",
    "print (X % 60)"
   ]
  },
  {
   "cell_type": "code",
   "execution_count": 31,
   "metadata": {},
   "outputs": [
    {
     "name": "stdout",
     "output_type": "stream",
     "text": [
      "2\n",
      "1\n",
      "00\n",
      "1\n",
      "2\n"
     ]
    }
   ],
   "source": [
    "X = int(input())\n",
    "H = int(input())\n",
    "M = int(input())\n",
    "X = X + H * 60 + M\n",
    "print(X // 60)\n",
    "print(X % 60)"
   ]
  },
  {
   "cell_type": "code",
   "execution_count": 4,
   "metadata": {},
   "outputs": [
    {
     "data": {
      "text/plain": [
       "False"
      ]
     },
     "execution_count": 4,
     "metadata": {},
     "output_type": "execute_result"
    }
   ],
   "source": [
    "a, b = True, False\n",
    "((a and b) or ((not a) and (not b)))"
   ]
  },
  {
   "cell_type": "code",
   "execution_count": 5,
   "metadata": {},
   "outputs": [
    {
     "data": {
      "text/plain": [
       "True"
      ]
     },
     "execution_count": 5,
     "metadata": {},
     "output_type": "execute_result"
    }
   ],
   "source": [
    "x = 5\n",
    "y = 10\n",
    "y > x * x or y >= 2 * x and x < y"
   ]
  },
  {
   "cell_type": "code",
   "execution_count": 6,
   "metadata": {},
   "outputs": [
    {
     "data": {
      "text/plain": [
       "False"
      ]
     },
     "execution_count": 6,
     "metadata": {},
     "output_type": "execute_result"
    }
   ],
   "source": [
    "a = True\n",
    "b = False\n",
    "a and b or not a and not b"
   ]
  },
  {
   "cell_type": "code",
   "execution_count": 48,
   "metadata": {},
   "outputs": [
    {
     "name": "stdout",
     "output_type": "stream",
     "text": [
      "Введите число5\n",
      "Число не чётное\n"
     ]
    }
   ],
   "source": [
    "x = int(input('Введите число'))\n",
    "if x % 2 == 0:\n",
    "    print ('Число чётное')\n",
    "else:\n",
    "    print ('Число не чётное')"
   ]
  },
  {
   "cell_type": "code",
   "execution_count": 24,
   "metadata": {},
   "outputs": [
    {
     "name": "stdout",
     "output_type": "stream",
     "text": [
      "8\n",
      "10\n",
      "9\n",
      "Это нормально\n"
     ]
    }
   ],
   "source": [
    "A = int(input())\n",
    "B = int(input())\n",
    "H = int(input())\n",
    "if H < A:\n",
    "    print('Недосып')\n",
    "elif H > B:\n",
    "    print('Пересып')\n",
    "else:\n",
    "    print('Это нормально')"
   ]
  },
  {
   "cell_type": "code",
   "execution_count": 44,
   "metadata": {},
   "outputs": [
    {
     "name": "stdout",
     "output_type": "stream",
     "text": [
      "2004\n",
      "Високосный\n"
     ]
    }
   ],
   "source": [
    "x = int(input())\n",
    "if x % 400 == 0:\n",
    "    print('Високосный')\n",
    "elif x % 4 == 0 and x % 100 != 0:\n",
    "    print('Високосный')\n",
    "else:\n",
    "    print('Обычный')"
   ]
  },
  {
   "cell_type": "code",
   "execution_count": 10,
   "metadata": {},
   "outputs": [
    {
     "name": "stdout",
     "output_type": "stream",
     "text": [
      "blafuck\n",
      "Defsef\n",
      "blafuck\n",
      "Defsef\n",
      "\n"
     ]
    }
   ],
   "source": [
    "a = 'blafuck\\nDefsef\\n' * 2\n",
    "print(a)"
   ]
  },
  {
   "cell_type": "code",
   "execution_count": 11,
   "metadata": {},
   "outputs": [
    {
     "name": "stdout",
     "output_type": "stream",
     "text": [
      "12342\n"
     ]
    }
   ],
   "source": [
    "print(\"123\" + \"42\")"
   ]
  },
  {
   "cell_type": "code",
   "execution_count": 13,
   "metadata": {},
   "outputs": [
    {
     "name": "stdout",
     "output_type": "stream",
     "text": [
      "3\n",
      "4\n",
      "5\n",
      "6.0\n"
     ]
    }
   ],
   "source": [
    "a = int(input())\n",
    "b = int(input())\n",
    "c = int(input())\n",
    "p = (a + b + c) / 2\n",
    "print((p * (p - a) * (p - b) * (p - c)) ** 0.5)"
   ]
  },
  {
   "cell_type": "code",
   "execution_count": 18,
   "metadata": {},
   "outputs": [
    {
     "name": "stdout",
     "output_type": "stream",
     "text": [
      "-20\n",
      "False\n"
     ]
    }
   ],
   "source": [
    "a = int(input())\n",
    "print((a > -15 and a <= 12) or (a > 14 and a < 17) or a >= 19)"
   ]
  },
  {
   "cell_type": "code",
   "execution_count": 43,
   "metadata": {},
   "outputs": [
    {
     "name": "stdout",
     "output_type": "stream",
     "text": [
      "5\n",
      "0\n",
      "div\n",
      "Деление на 0!\n"
     ]
    }
   ],
   "source": [
    "a = float(input())\n",
    "b = float(input())\n",
    "c = str(input())\n",
    "if b == 0 and (c == '/' or c == 'div' or c == 'mod'):\n",
    "    print(\"Деление на 0!\")\n",
    "else:\n",
    "    if c == '+':\n",
    "        print(a + b)\n",
    "    elif c == '-':\n",
    "        print(a - b)\n",
    "    elif c == '/':\n",
    "        print(a / b)\n",
    "    elif c == '*':\n",
    "        print(a * b)\n",
    "    elif c == 'mod':\n",
    "        print(a % b)\n",
    "    elif c == 'pow':\n",
    "        print(a ** b)\n",
    "    elif c == 'div':\n",
    "        print(a // b)"
   ]
  },
  {
   "cell_type": "code",
   "execution_count": 47,
   "metadata": {},
   "outputs": [
    {
     "name": "stdout",
     "output_type": "stream",
     "text": [
      "круг\n",
      "5\n",
      "78.5\n"
     ]
    }
   ],
   "source": [
    "figure = str(input())\n",
    "if figure == 'треугольник':\n",
    "    a = int(input())\n",
    "    b = int(input())\n",
    "    c = int(input())\n",
    "    p = (a + b + c) / 2\n",
    "    print((p * (p - a) * (p - b) * (p - c)) ** 0.5)\n",
    "elif figure == 'прямоугольник':\n",
    "    a = int(input())\n",
    "    b = int(input())\n",
    "    print(a * b)\n",
    "elif figure == 'круг':\n",
    "    a = int(input())\n",
    "    pi = 3.14\n",
    "    print(pi * (a ** 2))"
   ]
  },
  {
   "cell_type": "code",
   "execution_count": 69,
   "metadata": {},
   "outputs": [
    {
     "name": "stdout",
     "output_type": "stream",
     "text": [
      "5\n",
      "7\n",
      "7\n",
      "7\n",
      "5\n",
      "7\n"
     ]
    }
   ],
   "source": [
    "a, b, c = int(input()), int(input()), int(input())\n",
    "if a >= b and a >= c:\n",
    "    if b <= c and b <= a:\n",
    "        print(a)\n",
    "        print(b)\n",
    "        print(c)\n",
    "    if c <= a and c <= b:\n",
    "        print(a)\n",
    "        print(c)\n",
    "        print(b)\n",
    "elif b >= a and b >= c:\n",
    "    if a <= c and a <= b:\n",
    "        print(b)\n",
    "        print(a)\n",
    "        print(c)\n",
    "    if c <= a and c <= b:\n",
    "        print(b)\n",
    "        print(c)\n",
    "        print(a)\n",
    "else:\n",
    "    if a <= c and a <= b:\n",
    "        print(c)\n",
    "        print(a)\n",
    "        print(b)\n",
    "    if b <= c and b <= a:\n",
    "        print(c)\n",
    "        print(b)\n",
    "        print(a)"
   ]
  },
  {
   "cell_type": "code",
   "execution_count": 79,
   "metadata": {},
   "outputs": [
    {
     "name": "stdout",
     "output_type": "stream",
     "text": [
      "2\n",
      "1\n",
      "3\n",
      "3\n",
      "1\n",
      "2\n"
     ]
    }
   ],
   "source": [
    "a, b, c = int(input()), int(input()), int(input())\n",
    "if a >= b and a >= c:\n",
    "    max_num = a\n",
    "    if b >= c:\n",
    "        min_num = c\n",
    "    else:\n",
    "        min_num = b\n",
    "elif b >= a and b >= c:\n",
    "    max_num = b\n",
    "    if a >= c:\n",
    "        min_num = c\n",
    "    else:\n",
    "        min_num = a\n",
    "else:\n",
    "    max_num = c\n",
    "    if a >= b:\n",
    "        min_num = b\n",
    "    else:\n",
    "        min_num = a\n",
    "other_num = (a + b + c) - (min_num + max_num)\n",
    "print(max_num)\n",
    "print(min_num)\n",
    "print(other_num)"
   ]
  },
  {
   "cell_type": "code",
   "execution_count": 508,
   "metadata": {},
   "outputs": [
    {
     "name": "stdout",
     "output_type": "stream",
     "text": [
      "112\n",
      "112 программистов\n",
      "12 \n",
      " 2\n"
     ]
    }
   ],
   "source": [
    "n = int(input())\n",
    "if (n % 10 == 1 and 11 != n < 100) or (n % 100 == 1):\n",
    "    ending = ''\n",
    "elif (2 <= n % 10 < 5 and n < 12) or (2 <= n % 10 < 5 and 15 < n < 100) or (2 <= n % 10 <= 4 and (12 > n % 100 or n % 100 > 14)):\n",
    "    ending = 'а'\n",
    "else:\n",
    "    ending = 'ов'\n",
    "print(n, 'программист' + ending)\n",
    "\n",
    "print(n % 100, '\\n', n % 10)"
   ]
  },
  {
   "cell_type": "code",
   "execution_count": 529,
   "metadata": {},
   "outputs": [
    {
     "name": "stdout",
     "output_type": "stream",
     "text": [
      "1000\n",
      "1000 программистов\n",
      "0 \n",
      " 0\n"
     ]
    }
   ],
   "source": [
    "n = int(input())\n",
    "if n % 10 == 1 and n % 100 != 11:\n",
    "    ending = ''\n",
    "elif 2 <= n % 10 <= 4 and (n % 100 != 12 and n % 100 != 13 and n % 100 != 14):\n",
    "    ending = 'а'\n",
    "else:\n",
    "    ending = 'ов'\n",
    "print(n, 'программист' + ending)\n",
    "\n",
    "print(n % 100, '\\n', n % 10)"
   ]
  },
  {
   "cell_type": "code",
   "execution_count": null,
   "metadata": {},
   "outputs": [],
   "source": [
    "ticket_number = int(input())\n",
    "a = \n",
    "b = \n",
    "c = \n",
    "x = \n",
    "y =\n",
    "z =\n",
    "\n",
    "if :\n",
    "    print('Счастливый')\n",
    "else:\n",
    "    print('Обычный')"
   ]
  },
  {
   "cell_type": "code",
   "execution_count": null,
   "metadata": {},
   "outputs": [],
   "source": []
  }
 ],
 "metadata": {
  "kernelspec": {
   "display_name": "Python 3",
   "language": "python",
   "name": "python3"
  },
  "language_info": {
   "codemirror_mode": {
    "name": "ipython",
    "version": 3
   },
   "file_extension": ".py",
   "mimetype": "text/x-python",
   "name": "python",
   "nbconvert_exporter": "python",
   "pygments_lexer": "ipython3",
   "version": "3.7.6"
  }
 },
 "nbformat": 4,
 "nbformat_minor": 4
}
