{
 "cells": [
  {
   "cell_type": "code",
   "execution_count": 1,
   "outputs": [],
   "source": [
    "i = 0\n",
    "while i <= 10:\n",
    "    i = i + 1\n",
    "    if i > 7:\n",
    "        i = i + 2\n",
    "print(i)"
   ],
   "metadata": {
    "collapsed": false,
    "pycharm": {
     "name": "#%%\n",
     "is_executing": false
    }
   }
  },
  {
   "cell_type": "code",
   "execution_count": 2,
   "outputs": [
    {
     "name": "stdout",
     "text": [
      "*\n",
      "**\n",
      "*\n",
      "*\n",
      "**\n",
      "*\n",
      "***\n",
      "*\n",
      "**\n",
      "***\n"
     ],
     "output_type": "stream"
    }
   ],
   "source": [
    "i = 0\n",
    "while i < 5:\n",
    "    print('*')\n",
    "    if i % 2 == 0:\n",
    "        print('**')\n",
    "    if i > 2:\n",
    "        print('***')\n",
    "    i = i + 1"
   ],
   "metadata": {
    "collapsed": false,
    "pycharm": {
     "name": "#%%\n",
     "is_executing": false
    }
   }
  },
  {
   "cell_type": "code",
   "execution_count": 3,
   "outputs": [
    {
     "traceback": [
      "\u001b[1;31m---------------------------------------------------------------------------\u001b[0m",
      "\u001b[1;31mValueError\u001b[0m                                Traceback (most recent call last)",
      "\u001b[1;32m<ipython-input-3-efe54f5b58d7>\u001b[0m in \u001b[0;36m<module>\u001b[1;34m\u001b[0m\n\u001b[1;32m----> 1\u001b[1;33m \u001b[0ma\u001b[0m \u001b[1;33m=\u001b[0m \u001b[0mint\u001b[0m\u001b[1;33m(\u001b[0m\u001b[0minput\u001b[0m\u001b[1;33m(\u001b[0m\u001b[1;33m)\u001b[0m\u001b[1;33m)\u001b[0m\u001b[1;33m\u001b[0m\u001b[1;33m\u001b[0m\u001b[0m\n\u001b[0m\u001b[0;32m      2\u001b[0m \u001b[0msumma\u001b[0m \u001b[1;33m=\u001b[0m \u001b[1;36m0\u001b[0m\u001b[1;33m\u001b[0m\u001b[1;33m\u001b[0m\u001b[0m\n\u001b[0;32m      3\u001b[0m \u001b[1;32mwhile\u001b[0m \u001b[0ma\u001b[0m \u001b[1;33m!=\u001b[0m \u001b[1;36m0\u001b[0m\u001b[1;33m:\u001b[0m\u001b[1;33m\u001b[0m\u001b[1;33m\u001b[0m\u001b[0m\n\u001b[0;32m      4\u001b[0m     \u001b[0msumma\u001b[0m \u001b[1;33m+=\u001b[0m \u001b[0ma\u001b[0m\u001b[1;33m\u001b[0m\u001b[1;33m\u001b[0m\u001b[0m\n\u001b[0;32m      5\u001b[0m     \u001b[0ma\u001b[0m \u001b[1;33m=\u001b[0m \u001b[0mint\u001b[0m\u001b[1;33m(\u001b[0m\u001b[0minput\u001b[0m\u001b[1;33m(\u001b[0m\u001b[1;33m)\u001b[0m\u001b[1;33m)\u001b[0m\u001b[1;33m\u001b[0m\u001b[1;33m\u001b[0m\u001b[0m\n",
      "\u001b[1;31mValueError\u001b[0m: invalid literal for int() with base 10: 'aaaaabbbc'"
     ],
     "ename": "ValueError",
     "evalue": "invalid literal for int() with base 10: 'aaaaabbbc'",
     "output_type": "error"
    }
   ],
   "source": [
    "a = int(input())\n",
    "summa = 0\n",
    "while a != 0:\n",
    "    summa += a\n",
    "    a = int(input())\n",
    "print(summa)\n",
    "'''\n",
    "s, n =0, int(input())\n",
    "while n:\n",
    "    s, n = s + n, int(input())\n",
    "print(s)\n",
    "'''\n",
    "'''\n",
    "import sys\n",
    "print(sum(int(x) for x in sys.stdin.readlines()))\n",
    "'''"
   ],
   "metadata": {
    "collapsed": false,
    "pycharm": {
     "name": "#%%\n",
     "is_executing": false
    }
   }
  },
  {
   "cell_type": "code",
   "execution_count": null,
   "outputs": [],
   "source": [
    "a = int(input())\n",
    "b = int(input())\n",
    "cake_piece = 1\n",
    "while cake_piece % a != 0 or cake_piece % b != 0:\n",
    "    cake_piece += 1\n",
    "print(cake_piece)\n",
    "'''\n",
    "a = int(input())\n",
    "b = int(input())\n",
    "d = a\n",
    "while d%b:\n",
    "    d += a\n",
    "print(d)\n",
    "'''\n",
    "'''\n",
    "a = int(input())\n",
    "b = int(input())\n",
    "\n",
    "if   a > b:\n",
    "      p = a\n",
    "      while p % b != 0: p += a\n",
    "\n",
    "elif a < b:\n",
    "      p = b\n",
    "      while p % a != 0: p += b\n",
    "\n",
    "else: p = a\n",
    "\n",
    "print (p)\n",
    "'''"
   ],
   "metadata": {
    "collapsed": false,
    "pycharm": {
     "name": "#%%\n",
     "is_executing": false
    }
   }
  },
  {
   "cell_type": "code",
   "execution_count": null,
   "outputs": [],
   "source": [
    "i = 0\n",
    "s = 0\n",
    "while i < 10:\n",
    "    i = i + 1\n",
    "    s = s + i\n",
    "    if s > 15:\n",
    "        break\n",
    "    i = i + 1\n",
    "print(i)\n"
   ],
   "metadata": {
    "collapsed": false,
    "pycharm": {
     "name": "#%%\n",
     "is_executing": false
    }
   }
  },
  {
   "cell_type": "code",
   "execution_count": null,
   "outputs": [],
   "source": [
    "a = 0\n",
    "while a <= 100:\n",
    "    a = int(input())\n",
    "    if a < 10:\n",
    "        continue\n",
    "    if a <= 100:\n",
    "        print(a)\n",
    "'''\n",
    "while True:\n",
    "    number = int(input())\n",
    "    if number >100:\n",
    "        break\n",
    "    if number <10:\n",
    "        continue\n",
    "    print(number)\n",
    "\n",
    "a = 0\n",
    "while a <= 100:\n",
    "    a = int(input())\n",
    "    if 10 <= a <= 100:\n",
    "        print(a)\n",
    "'''\n",
    "\n",
    "'''\n",
    "for i in range(a, b + 1):\n",
    "    for j in range(c, d + 1):\n",
    "        print ('\\t', j, end = '')\n",
    "        j += 1\n",
    "        \n",
    "\"\"   2    3    4\n",
    "1  1*2  1*3  1*4\n",
    "2  2*2  2*3  2*4\n",
    "3  3*2  3*3  3*4\n",
    "// промежутки - \\t\n",
    "// \"\" - пустая строка\n",
    "for j in range(c,d+1):\n",
    "    print ('\\t', j, end = '')\n",
    "'''"
   ],
   "metadata": {
    "collapsed": false,
    "pycharm": {
     "name": "#%%\n",
     "is_executing": false
    }
   }
  },
  {
   "cell_type": "code",
   "execution_count": null,
   "outputs": [],
   "source": [
    "#enter numbers\n",
    "a = int(input())\n",
    "b = int(input())\n",
    "c = int(input())\n",
    "d = int(input())\n",
    "#make table top\n",
    "for i in range(c, d + 1):\n",
    "    print('\\t', i, end = '')\n",
    "#make multiplication table\n",
    "for i in range(a, b + 1):\n",
    "    print('\\n', i, end = '')\n",
    "    for j in range(c, d + 1):\n",
    "        print('\\t', i * j, end = '')\n",
    "'''\n",
    "a, b, c, d = (int(input()) for x in range(4))\n",
    "print('', *range(c,d+1), sep='\\t')\n",
    "for x in range(a, b+1):\n",
    "    print(x, *[y*x for y in range(c, d+1)], sep='\\t')\n",
    "'''\n",
    "'''\n",
    "# put your python code here\n",
    "a = int(input())\n",
    "b = int(input())\n",
    "c = int(input())\n",
    "d = int(input())\n",
    "for x in range(c,d+1):\n",
    "  print('\\t',x, end='')\n",
    "for y in range(a,b+1):\n",
    "  print('\\n',y, end='')\n",
    "  for x in range(c,d+1):\n",
    "    print('\\t', y*x, end='')\n",
    "'''"
   ],
   "metadata": {
    "collapsed": false,
    "pycharm": {
     "name": "#%%\n",
     "is_executing": false
    }
   }
  },
  {
   "cell_type": "code",
   "execution_count": null,
   "outputs": [],
   "source": [
    "#a, b = (int(x) for x in input().split())\n",
    "a = int(input())\n",
    "b = int(input())\n",
    "s = 0\n",
    "c = 0\n",
    "for x in range(a, b + 1):\n",
    "    if x % 3 == 0:\n",
    "        s += x\n",
    "        c += 1\n",
    "print(s / c)\n",
    "'''\n",
    "a,b = int(input()), int(input())\n",
    "a += -a%3\n",
    "# a = a + a - (a % 3)\n",
    "b -= b%3\n",
    "print((a+b)/2)\n",
    "\n",
    "\n",
    "Долго думал, как же все-таки получается остаток деления отрицательного числа на положительное. Например, -5%3=1.\n",
    "\n",
    "Вроде бы немного разобрался. Т.е. мне было непонятно. Если 5%3, все ясно, 3 отняли, 2 осталось. Вроде бы и в минус должно работать также, -3 отняли, -2 осталось. Ан нет. Тут стоит размышлять по-другому..\n",
    "\n",
    "Вот есть у меня 5 яблок. Я 3 отдам, у меня 2 останется. Я не могу отдать еще 3. Остаток в принципе!! не может быть отрицательным. Иначе я был бы должен кому-то еще одно яблоко. Поэтому я могу отдать только 3, и 2 останется.\n",
    "\n",
    "Если же у меня -5.. значит я кому-то должен 5 яблок, например, Васе. Если я Васе отдам 3 яблока, у меня будет долг -2. Но у Васи-то..Вася-то обидится, я ему 2 яблока недодал!! Еще раз ко мне приходит 3 яблока -2+3=-1. Я отдаю Васе 2 яблока и у меня остается 1. Остаток = 1. Вася доволен, да и у меня все сошлось. Как-то так.\n",
    "\n",
    "\n",
    "@sawabigboy_., давайте для примера возьмем последовательность -5 -4 -3 -2 -1 0 1 2 3 4 5 6 7 8 9 10 11 12\n",
    "а%3 и в%3 - остатки от деления на 3, если 5%3= 2 и 12%3=0.\n",
    "а+=- а%3 это а=а + (-а%3)\n",
    "b -= b%3 это b =  b - b%3\n",
    "Таким образом, мы изменяем введенные переменные так, чтобы они делились на 3:\n",
    "а не равно больше -5, а становиться: -5 - (-5%3)= -5+2=-3\n",
    "b не равно больше 12, а становиться: 12 - (-12%3) = 12+0=12\n",
    "а теперь оказывается, что, если взять их среднее арифметическое (12-3)/2 = 4,5\n",
    "то есть введенный интервал заменяется в программе на новый, чье среднее равно тому среднему, которое требуют найти.\n",
    "\n",
    "'''"
   ],
   "metadata": {
    "collapsed": false,
    "pycharm": {
     "name": "#%%\n",
     "is_executing": false
    }
   }
  },
  {
   "cell_type": "code",
   "execution_count": null,
   "outputs": [],
   "source": [
    "a = str(input())\n",
    "print(((a.lower().count('c') + a.lower().count('g')) / len(a)) * 100)\n",
    "'''\n",
    "s = input().upper()\n",
    "print((s.count('G') + s.count('C'))/len(s) * 100)\n",
    "'''"
   ],
   "metadata": {
    "collapsed": false,
    "pycharm": {
     "name": "#%%\n",
     "is_executing": false
    }
   }
  },
  {
   "cell_type": "code",
   "execution_count": null,
   "outputs": [],
   "source": [
    "a = input().lower()\n",
    "if a == a[::-1]:\n",
    "    print('YES')\n",
    "else:\n",
    "    print('NO')\n",
    "print(a[::-1])"
   ],
   "metadata": {
    "collapsed": false,
    "pycharm": {
     "name": "#%%\n",
     "is_executing": false
    }
   }
  },
  {
   "cell_type": "code",
   "execution_count": null,
   "outputs": [],
   "source": [
    "s = 'abcdefghijk'\n",
    "print(s[3:6], end=' ')\n",
    "print(s[:6], end=' ')\n",
    "print(s[3:], end=' ')\n",
    "print(s[::-1], end=' ')\n",
    "print(s[-3:], end=' ')\n",
    "print(s[:-6], end=' ')\n",
    "print(s[-1:-10:-2], end=' ')"
   ],
   "metadata": {
    "collapsed": false,
    "pycharm": {
     "name": "#%%\n",
     "is_executing": false
    }
   }
  },
  {
   "cell_type": "code",
   "execution_count": null,
   "outputs": [],
   "source": [
    "dna_code = str(input())\n",
    "zip_text = ''\n",
    "for x in dna_code:\n",
    "    if zip_text.find(x) != -1:\n",
    "        continue\n",
    "    else:\n",
    "        zip_text += x + str(dna_code.count(x))\n",
    "print(zip_text)"
   ],
   "metadata": {
    "collapsed": false,
    "pycharm": {
     "name": "#%%\n",
     "is_executing": false
    }
   }
  },
  {
   "cell_type": "code",
   "execution_count": null,
   "outputs": [],
   "source": [
    "'''\n",
    "dna_code = str(input())\n",
    "zip_code = ''\n",
    "for x in dna_code:\n",
    "    if len(zip_code) >= 2 and zip_code.rfind(x) != -1:\n",
    "#            x == zip_code[zip_code.rfind(x)]:\n",
    "        zip_code = zip_code[:zip_code.rfind(x)+1] + str(int(zip_code[zip_code.rfind(x)+1:]) + 1)\n",
    "    else:\n",
    "            zip_code += x + str('1')\n",
    "print(zip_code)\n",
    "'''\n",
    "\n",
    "dna_code = str(input())\n",
    "zip_code = ''\n",
    "count = 1\n",
    "for x in range(len(dna_code)):\n",
    "    while dna_code[x] == dna_code[x+1]:\n",
    "        count += 1\n",
    "    zip_code += dna_code[x] + str(count)\n",
    "    count = 1\n",
    "print(zip_code, '\\n sdfsdf')\n",
    "\n",
    "\n"
   ],
   "metadata": {
    "collapsed": false,
    "pycharm": {
     "name": "#%%\n",
     "is_executing": true
    }
   }
  },
  {
   "cell_type": "code",
   "execution_count": null,
   "outputs": [],
   "source": [],
   "metadata": {
    "collapsed": false,
    "pycharm": {
     "name": "#%%\n",
     "is_executing": false
    }
   }
  },
  {
   "cell_type": "code",
   "execution_count": null,
   "outputs": [],
   "source": [],
   "metadata": {
    "collapsed": false,
    "pycharm": {
     "name": "#%%\n",
     "is_executing": false
    }
   }
  },
  {
   "cell_type": "code",
   "execution_count": null,
   "outputs": [],
   "source": [],
   "metadata": {
    "collapsed": false,
    "pycharm": {
     "name": "#%%\n",
     "is_executing": false
    }
   }
  }
 ],
 "metadata": {
  "kernelspec": {
   "name": "python3",
   "language": "python",
   "display_name": "Python 3"
  },
  "language_info": {
   "codemirror_mode": {
    "name": "ipython",
    "version": 3
   },
   "file_extension": ".py",
   "mimetype": "text/x-python",
   "name": "python",
   "nbconvert_exporter": "python",
   "pygments_lexer": "ipython3",
   "version": "3.7.6"
  },
  "pycharm": {
   "stem_cell": {
    "cell_type": "raw",
    "source": [],
    "metadata": {
     "collapsed": false
    }
   }
  }
 },
 "nbformat": 4,
 "nbformat_minor": 4
}