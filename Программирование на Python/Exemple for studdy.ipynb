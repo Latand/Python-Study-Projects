{
 "cells": [
  {
   "cell_type": "code",
   "execution_count": 3,
   "metadata": {
    "collapsed": true,
    "pycharm": {
     "is_executing": false
    }
   },
   "outputs": [
    {
     "name": "stdout",
     "text": [
      "22\n",
      "10\n",
      "15\n"
     ],
     "output_type": "stream"
    }
   ],
   "source": [
    "a,b,c = int(input()), int(input()), int(input())\n",
    "\n",
    "if a < b:\n",
    "\ta, b = b, a\n",
    "if a < c:\n",
    "\ta, c = c, a\n",
    "if b > c:\n",
    "\tb, c = c, b\n",
    "print(a)\n",
    "print(b)\n",
    "print(c)"
   ]
  },
  {
   "cell_type": "code",
   "execution_count": 4,
   "outputs": [
    {
     "name": "stdout",
     "text": [
      "1 2 3 4 5\n",
      "16 17 18 19 6\n",
      "15 24 25 20 7\n",
      "14 23 22 21 8\n",
      "13 12 11 10 9\n"
     ],
     "output_type": "stream"
    }
   ],
   "source": [
    "\n",
    "def zm(n):\n",
    "    dx, dy = 1, 0\n",
    "    x, y = 0, 0\n",
    "    arr = [[None] * n for _ in range(n)]\n",
    "    for i in range(1, n**2+1):\n",
    "        arr[x][y] = i\n",
    "        nx, ny = x+dx, y+dy\n",
    "        if 0 <= nx < n and 0 <= ny < n and not arr[nx][ny]:\n",
    "            x, y = nx, ny\n",
    "        else:\n",
    "            dx, dy = -dy, dx\n",
    "            x, y = x+dx, y+dy\n",
    "    for x in list(zip(*arr)):\n",
    "        print(*x)\n",
    "\n",
    "zm(int(input()))"
   ],
   "metadata": {
    "collapsed": false,
    "pycharm": {
     "name": "#%%\n",
     "is_executing": false
    }
   }
  },
  {
   "cell_type": "code",
   "execution_count": 6,
   "outputs": [
    {
     "name": "stdout",
     "text": [
      "1 2 3 4 5\n",
      "16 17 18 19 6\n",
      "15 24 25 20 7\n",
      "14 23 22 21 8\n",
      "13 12 11 10 9\n"
     ],
     "output_type": "stream"
    },
    {
     "data": {
      "text/plain": "[None, None, None, None, None]"
     },
     "metadata": {},
     "output_type": "execute_result",
     "execution_count": 6
    }
   ],
   "source": [
    "n = int(input())\n",
    "num = [[0] * n for y in range(n)]\n",
    "y, x, dy, dx = 0, 0, 0, 1\n",
    "\n",
    "for k in range(n*n):\n",
    "    num[y][x] = k+1\n",
    "    if  (y+dy not in range(-1,n)or    #не столбец\n",
    "         x+dx not in range(-1,n)or    #не строка\n",
    "         num[y + dy][x + dx] > 0):    #следующая занята\n",
    "        dx, dy = -dy, dx              #то - переприсваивание\n",
    "        \n",
    "    y, x = y + dy, x + dx\n",
    "\n",
    "[print(*i) for i in num]"
   ],
   "metadata": {
    "collapsed": false,
    "pycharm": {
     "name": "#%%\n",
     "is_executing": false
    }
   }
  },
  {
   "cell_type": "code",
   "execution_count": null,
   "outputs": [],
   "source": [
    "\n"
   ],
   "metadata": {
    "collapsed": false,
    "pycharm": {
     "name": "#%%\n"
    }
   }
  }
 ],
 "metadata": {
  "kernelspec": {
   "display_name": "Python 3",
   "language": "python",
   "name": "python3"
  },
  "language_info": {
   "codemirror_mode": {
    "name": "ipython",
    "version": 2
   },
   "file_extension": ".py",
   "mimetype": "text/x-python",
   "name": "python",
   "nbconvert_exporter": "python",
   "pygments_lexer": "ipython2",
   "version": "2.7.6"
  },
  "pycharm": {
   "stem_cell": {
    "cell_type": "raw",
    "source": [],
    "metadata": {
     "collapsed": false
    }
   }
  }
 },
 "nbformat": 4,
 "nbformat_minor": 0
}